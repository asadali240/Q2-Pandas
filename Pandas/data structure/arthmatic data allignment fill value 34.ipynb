{
 "cells": [
  {
   "cell_type": "code",
   "execution_count": 8,
   "metadata": {},
   "outputs": [
    {
     "name": "stdout",
     "output_type": "stream",
     "text": [
      "      a     b     c     d     e\n",
      "0   0.0   1.0   2.0   3.0   4.0\n",
      "1   5.0   6.0   7.0   8.0   9.0\n",
      "2  10.0  11.0  12.0  13.0  14.0\n",
      "3  15.0  16.0  17.0  18.0  19.0\n",
      "\n",
      "df2 replace the 6.0 in column b row 2 value into the nan\n",
      "      a     b     c     d     e\n",
      "0   0.0   1.0   2.0   3.0   4.0\n",
      "1   5.0   NaN   7.0   8.0   9.0\n",
      "2  10.0  11.0  12.0  13.0  14.0\n",
      "3  15.0  16.0  17.0  18.0  19.0\n",
      "df3 this output is without filling the values \n",
      "      a     b     c     d   e\n",
      "0   0.0   2.0   4.0   6.0 NaN\n",
      "1   9.0   NaN  13.0  15.0 NaN\n",
      "2  18.0  20.0  22.0  24.0 NaN\n",
      "3   NaN   NaN   NaN   NaN NaN\n",
      "----------\n",
      "\n",
      "using the fill value method for replace nan into 0\n",
      "      a     b     c     d     e\n",
      "0   0.0   2.0   4.0   6.0   4.0\n",
      "1   9.0   5.0  13.0  15.0   9.0\n",
      "2  18.0  20.0  22.0  24.0  14.0\n",
      "3  15.0  16.0  17.0  18.0  19.0\n"
     ]
    }
   ],
   "source": [
    "import numpy as np\n",
    "import pandas as pd \n",
    "\n",
    "df1 = pd.DataFrame(np.arange(12.).reshape((3,4)),\n",
    "                   columns=list(\"abcd\"))\n",
    "\n",
    "df2 = pd.DataFrame(np.arange(20.).reshape((4,5)),\n",
    "                   columns=list(\"abcde\"))\n",
    "\n",
    "print (df2)\n",
    "print ()\n",
    "df2.loc[1, \"b\"] = np.nan\n",
    "print (\"df2 replace the 6.0 in column b row 2 value into the nan\")\n",
    "print (df2)\n",
    "df3 = df1 + df2\n",
    "print (\"df3 this output is without filling the values \")\n",
    "print (df3)\n",
    "print (\"----------\")\n",
    "print ()\n",
    "\n",
    "print (\"using the fill value method for replace nan into 0\")\n",
    "\n",
    "df3 = df1.add(df2, fill_value = 0)\n",
    "print (df3)"
   ]
  },
  {
   "cell_type": "markdown",
   "metadata": {},
   "source": [
    "# operation between dataframe and series "
   ]
  },
  {
   "cell_type": "code",
   "execution_count": 21,
   "metadata": {},
   "outputs": [
    {
     "name": "stdout",
     "output_type": "stream",
     "text": [
      "          b     d     e\n",
      "Utha    0.0   1.0   2.0\n",
      "ohio    3.0   4.0   5.0\n",
      "Texas   6.0   7.0   8.0\n",
      "Oregen  9.0  10.0  11.0\n",
      "\n",
      "output after using the iloc method which convert the data in single array\n",
      "\n",
      "b    0.0\n",
      "d    1.0\n",
      "e    2.0\n",
      "Name: Utha, dtype: float64\n",
      "\n",
      "making the new series..... \n",
      "Index(['b', 'd', 'e'], dtype='object') [1 2 3]\n",
      "\n",
      "subtracking the frame from series, the operation will be perfrom row wise not column wise  \n",
      "b    1\n",
      "d    2\n",
      "e    3\n",
      "dtype: int64\n",
      "          b    d    e\n",
      "Utha   -1.0 -1.0 -1.0\n",
      "ohio    2.0  2.0  2.0\n",
      "Texas   5.0  5.0  5.0\n",
      "Oregen  8.0  8.0  8.0\n"
     ]
    }
   ],
   "source": [
    "import numpy as np\n",
    "import pandas as pd \n",
    "\n",
    "frame = pd.DataFrame(np.arange(12.).reshape((4,3)),\n",
    "                   columns=list(\"bde\"),\n",
    "                    index=[\"Utha\", \"ohio\", \"Texas\", \"Oregen\"])\n",
    "\n",
    "series = frame.iloc[0]\n",
    "print (frame)\n",
    "print ()\n",
    "print (\"output after using the iloc method which convert the data in single array\")\n",
    "print ()\n",
    "print(series)\n",
    "print ()\n",
    "print (\"making the new series..... \")\n",
    "\n",
    "series1 = pd.Series([1,2,3], index=list(\"bde\"))\n",
    "print (series1.index, series1.values)\n",
    "print ()\n",
    "\n",
    "print (\"subtracking the frame from series, the operation will be perfrom row wise not column wise  \")\n",
    "print (series1)\n",
    "print (frame - series1)"
   ]
  },
  {
   "cell_type": "code",
   "execution_count": null,
   "metadata": {},
   "outputs": [],
   "source": []
  }
 ],
 "metadata": {
  "kernelspec": {
   "display_name": "Python 3",
   "language": "python",
   "name": "python3"
  },
  "language_info": {
   "codemirror_mode": {
    "name": "ipython",
    "version": 3
   },
   "file_extension": ".py",
   "mimetype": "text/x-python",
   "name": "python",
   "nbconvert_exporter": "python",
   "pygments_lexer": "ipython3",
   "version": "3.7.4"
  }
 },
 "nbformat": 4,
 "nbformat_minor": 4
}
