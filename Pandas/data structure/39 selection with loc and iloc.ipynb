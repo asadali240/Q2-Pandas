{
 "cells": [
  {
   "cell_type": "code",
   "execution_count": 10,
   "metadata": {},
   "outputs": [
    {
     "name": "stdout",
     "output_type": "stream",
     "text": [
      "           one  two  three  four\n",
      "ohio         0    1      2     3\n",
      "colorando    4    5      6     7\n",
      "utah         8    9     10    11\n",
      "newyork     12   13     14    15\n",
      "\n",
      "ohio          0\n",
      "colorando     4\n",
      "utah          8\n",
      "newyork      12\n",
      "Name: one, dtype: int32\n"
     ]
    }
   ],
   "source": [
    "import pandas as pd \n",
    "import numpy as np\n",
    "\n",
    "\n",
    "data_df = pd.DataFrame(np.arange(16).reshape((4,4)),\n",
    "                      index = [\"ohio\", \"colorando\", \"utah\", \"newyork\"],\n",
    "                      columns = [\"one\", \"two\", \"three\", \"four\"])\n",
    "\n",
    "print (data_df)\n",
    "print ()\n",
    "\n",
    "print (data_df.one) # this is the attribute style to calling the column "
   ]
  },
  {
   "cell_type": "markdown",
   "metadata": {},
   "source": [
    "# accesing the data in different ways "
   ]
  },
  {
   "cell_type": "code",
   "execution_count": 13,
   "metadata": {},
   "outputs": [
    {
     "name": "stdout",
     "output_type": "stream",
     "text": [
      "ohio         0\n",
      "colorando    4\n",
      "Name: one, dtype: int32\n"
     ]
    }
   ],
   "source": [
    "print (data_df.one[:2])   # we also define the range of the rows "
   ]
  },
  {
   "cell_type": "code",
   "execution_count": 14,
   "metadata": {},
   "outputs": [
    {
     "name": "stdout",
     "output_type": "stream",
     "text": [
      "utah        8\n",
      "newyork    12\n",
      "Name: one, dtype: int32\n"
     ]
    }
   ],
   "source": [
    "print (data_df[\"one\"][2:])  # defining the second way "
   ]
  },
  {
   "cell_type": "markdown",
   "metadata": {},
   "source": [
    "# conditional filtering "
   ]
  },
  {
   "cell_type": "code",
   "execution_count": 20,
   "metadata": {},
   "outputs": [
    {
     "name": "stdout",
     "output_type": "stream",
     "text": [
      "this is the 1st way to filtering the data \n",
      "\n",
      "           one  two  three  four\n",
      "colorando    4    5      6     7\n",
      "utah         8    9     10    11\n",
      "newyork     12   13     14    15\n",
      "\n",
      "this is the second way to filtering the data\n",
      "\n",
      "colorando     7\n",
      "utah         11\n",
      "newyork      15\n",
      "Name: four, dtype: int32\n"
     ]
    }
   ],
   "source": [
    "print (\"this is the 1st way to filtering the data \")\n",
    "print ()\n",
    "print (data_df[data_df[\"three\"] > 5])\n",
    "\n",
    "print ()\n",
    "\n",
    "print (\"this is the second way to filtering the data\")\n",
    "print ()\n",
    "print (data_df.four[data_df[\"three\"]> 5])"
   ]
  },
  {
   "cell_type": "markdown",
   "metadata": {},
   "source": [
    "# selection with loc and iloc \n",
    "* in the loc method we retrieve the data through rows labels and index"
   ]
  },
  {
   "cell_type": "code",
   "execution_count": 32,
   "metadata": {},
   "outputs": [
    {
     "name": "stdout",
     "output_type": "stream",
     "text": [
      "           one  two  three  four\n",
      "ohio         0    1      2     3\n",
      "colorando    4    5      6     7\n",
      "utah         8    9     10    11\n",
      "newyork     12   13     14    15\n",
      "           two  three\n",
      "colorando    5      6\n",
      "ohio         1      2\n"
     ]
    }
   ],
   "source": [
    "data_df = pd.DataFrame(np.arange(16).reshape((4,4)),\n",
    "                      index = [\"ohio\", \"colorando\", \"utah\", \"newyork\"],\n",
    "                      columns = [\"one\", \"two\", \"three\", \"four\"])\n",
    "\n",
    "print (data_df)\n",
    "print (data_df.loc[[\"colorando\",\"ohio\"], [\"two\", \"three\"]])\n",
    "\n",
    "\n"
   ]
  },
  {
   "cell_type": "markdown",
   "metadata": {},
   "source": [
    "# iloc like a fancy indexing"
   ]
  },
  {
   "cell_type": "code",
   "execution_count": 35,
   "metadata": {},
   "outputs": [
    {
     "name": "stdout",
     "output_type": "stream",
     "text": [
      "           one  two  three  four\n",
      "ohio         0    1      2     3\n",
      "colorando    4    5      6     7\n",
      "utah         8    9     10    11\n",
      "newyork     12   13     14    15\n",
      "\n",
      "\n",
      "four    11\n",
      "one      8\n",
      "two      9\n",
      "Name: utah, dtype: int32\n"
     ]
    }
   ],
   "source": [
    "print (data_df)\n",
    "print (\"\\n\")\n",
    "print (data_df.iloc[2,[3,0,1]])"
   ]
  },
  {
   "cell_type": "code",
   "execution_count": 43,
   "metadata": {},
   "outputs": [
    {
     "name": "stdout",
     "output_type": "stream",
     "text": [
      "printing the whole dataframe\n",
      "           one  two  three  four\n",
      "ohio         0    1      2     3\n",
      "colorando    4    5      6     7\n",
      "utah         8    9     10    11\n",
      "newyork     12   13     14    15\n"
     ]
    }
   ],
   "source": [
    "print (\"printing the whole dataframe\")\n",
    "\n",
    "print (data_df.iloc[:])"
   ]
  },
  {
   "cell_type": "code",
   "execution_count": 48,
   "metadata": {},
   "outputs": [
    {
     "name": "stdout",
     "output_type": "stream",
     "text": [
      "           one  two  three  four\n",
      "ohio         0    1      2     3\n",
      "colorando    4    5      6     7\n",
      "utah         8    9     10    11\n",
      "newyork     12   13     14    15\n",
      "\n",
      "           one  two  three\n",
      "ohio         0    1      2\n",
      "colorando    4    5      6\n",
      "utah         8    9     10\n",
      "newyork     12   13     14\n",
      "\n",
      "           one  two  three\n",
      "ohio         0    1      2\n",
      "colorando    4    5      6\n",
      "utah         8    9     10\n",
      "\n",
      "           one  two  three  four\n",
      "ohio         0    1      2     3\n",
      "colorando    4    5      6     7\n"
     ]
    }
   ],
   "source": [
    "print (data_df)\n",
    "print ()\n",
    "print (data_df.iloc[:,:3])  # printing all rows and 0 to 2 columns  \n",
    "print ()\n",
    "print (data_df.iloc[:3,:3])  # printing 3 rows and 0 to 2 columns  \n",
    "print ()\n",
    "\n",
    "print (data_df.iloc[:2])  # printing 2  rows and all columns"
   ]
  },
  {
   "cell_type": "markdown",
   "metadata": {},
   "source": [
    "# arthmatic and data alignment "
   ]
  },
  {
   "cell_type": "code",
   "execution_count": 59,
   "metadata": {},
   "outputs": [
    {
     "name": "stdout",
     "output_type": "stream",
     "text": [
      "             b    c    d\n",
      "ohio       0.0  1.0  2.0\n",
      "texas      3.0  4.0  5.0\n",
      "colorando  6.0  7.0  8.0\n",
      "\n",
      "          b     d     e\n",
      "utah    0.0   1.0   2.0\n",
      "ohio    3.0   4.0   5.0\n",
      "texas   6.0   7.0   8.0\n",
      "oregon  9.0  10.0  11.0\n",
      "\n",
      "             b   c     d   e\n",
      "colorando  NaN NaN   NaN NaN\n",
      "ohio       3.0 NaN   6.0 NaN\n",
      "oregon     NaN NaN   NaN NaN\n",
      "texas      9.0 NaN  12.0 NaN\n",
      "utah       NaN NaN   NaN NaN\n"
     ]
    }
   ],
   "source": [
    "df1 = pd.DataFrame(np.arange(9.).reshape((3,3)),\n",
    "                   columns = list(\"bcd\"),   \n",
    "                   index = [\"ohio\", \"texas\", \"colorando\"])                     \n",
    "\n",
    "\n",
    "df2 = pd.DataFrame(np.arange(12.).reshape((4,3)),\n",
    "                      index = [\"utah\",\"ohio\", \"texas\", \"oregon\"],\n",
    "                      columns = list(\"bde\"))\n",
    "print (df1)\n",
    "print ()\n",
    "print(df2)\n",
    "print ()\n",
    "print (df1+df2)"
   ]
  },
  {
   "cell_type": "code",
   "execution_count": null,
   "metadata": {},
   "outputs": [],
   "source": []
  }
 ],
 "metadata": {
  "kernelspec": {
   "display_name": "Python 3",
   "language": "python",
   "name": "python3"
  },
  "language_info": {
   "codemirror_mode": {
    "name": "ipython",
    "version": 3
   },
   "file_extension": ".py",
   "mimetype": "text/x-python",
   "name": "python",
   "nbconvert_exporter": "python",
   "pygments_lexer": "ipython3",
   "version": "3.8.5"
  }
 },
 "nbformat": 4,
 "nbformat_minor": 4
}
