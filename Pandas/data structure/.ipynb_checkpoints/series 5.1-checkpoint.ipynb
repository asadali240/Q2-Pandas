{
 "cells": [
  {
   "cell_type": "code",
   "execution_count": 1,
   "metadata": {},
   "outputs": [],
   "source": [
    "import pandas as pd "
   ]
  },
  {
   "cell_type": "code",
   "execution_count": 2,
   "metadata": {},
   "outputs": [
    {
     "name": "stdout",
     "output_type": "stream",
     "text": [
      "0     1\n",
      "1     5\n",
      "2    -7\n",
      "3    10\n",
      "dtype: int64\n"
     ]
    }
   ],
   "source": [
    "obj1 = pd.Series([1,5,-7,10])\n",
    "print (obj1)"
   ]
  },
  {
   "cell_type": "code",
   "execution_count": 3,
   "metadata": {},
   "outputs": [
    {
     "name": "stdout",
     "output_type": "stream",
     "text": [
      "[ 1  5 -7 10]\n",
      "RangeIndex(start=0, stop=4, step=1)\n"
     ]
    }
   ],
   "source": [
    "print (obj1.values)\n",
    "print (obj1.index)"
   ]
  },
  {
   "cell_type": "markdown",
   "metadata": {},
   "source": [
    "# give the index by own / manual "
   ]
  },
  {
   "cell_type": "code",
   "execution_count": 4,
   "metadata": {},
   "outputs": [
    {
     "name": "stdout",
     "output_type": "stream",
     "text": [
      "a     1\n",
      "b     5\n",
      "c    -7\n",
      "d    10\n",
      "dtype: int64\n"
     ]
    }
   ],
   "source": [
    "obj1 = pd.Series([1,5,-7,10], index=[\"a\", \"b\", \"c\", \"d\"])\n",
    "print (obj1)"
   ]
  },
  {
   "cell_type": "code",
   "execution_count": 5,
   "metadata": {},
   "outputs": [
    {
     "name": "stdout",
     "output_type": "stream",
     "text": [
      "Jan       1\n",
      "Feb       5\n",
      "March    -7\n",
      "April    10\n",
      "dtype: int64\n"
     ]
    }
   ],
   "source": [
    "obj1 = pd.Series([1,5,-7,10], index=[\"Jan\", \"Feb\", \"March\", \"April\"])\n",
    "print (obj1)"
   ]
  },
  {
   "cell_type": "code",
   "execution_count": 6,
   "metadata": {},
   "outputs": [
    {
     "name": "stdout",
     "output_type": "stream",
     "text": [
      "Jan       1\n",
      "Feb       5\n",
      "March    -7\n",
      "April    10\n",
      "Name: the 04 months targes, dtype: int64\n"
     ]
    }
   ],
   "source": [
    "obj1 = pd.Series([1,5,-7,10], index=[\"Jan\", \"Feb\", \"March\", \"April\"], name=\"the 04 months targes\")\n",
    "print (obj1)"
   ]
  },
  {
   "cell_type": "markdown",
   "metadata": {},
   "source": [
    "# accessing the data from pandas "
   ]
  },
  {
   "cell_type": "code",
   "execution_count": 7,
   "metadata": {},
   "outputs": [
    {
     "name": "stdout",
     "output_type": "stream",
     "text": [
      "5\n",
      "-7\n"
     ]
    }
   ],
   "source": [
    "print (obj1[1])\n",
    "print (obj1[\"March\"])"
   ]
  },
  {
   "cell_type": "code",
   "execution_count": 8,
   "metadata": {},
   "outputs": [
    {
     "name": "stdout",
     "output_type": "stream",
     "text": [
      "Feb      5\n",
      "March   -7\n",
      "Name: the 04 months targes, dtype: int64\n",
      "\n",
      "Jan    1\n",
      "Feb    5\n",
      "Name: the 04 months targes, dtype: int64\n"
     ]
    }
   ],
   "source": [
    "print (obj1[[1,2]])\n",
    "print ()\n",
    "print (obj1[[\"Jan\", \"Feb\"]])"
   ]
  },
  {
   "cell_type": "code",
   "execution_count": 9,
   "metadata": {},
   "outputs": [
    {
     "name": "stdout",
     "output_type": "stream",
     "text": [
      "April    10\n",
      "Name: the 04 months targes, dtype: int64\n"
     ]
    }
   ],
   "source": [
    "print (obj1  [obj1 > 5]  )"
   ]
  },
  {
   "cell_type": "code",
   "execution_count": 13,
   "metadata": {},
   "outputs": [
    {
     "data": {
      "text/plain": [
       "Jan       2\n",
       "Feb      10\n",
       "March   -14\n",
       "April    20\n",
       "Name: the 04 months targes, dtype: int64"
      ]
     },
     "execution_count": 13,
     "metadata": {},
     "output_type": "execute_result"
    }
   ],
   "source": [
    "obj1 * 2 "
   ]
  },
  {
   "cell_type": "code",
   "execution_count": 10,
   "metadata": {},
   "outputs": [
    {
     "name": "stdout",
     "output_type": "stream",
     "text": [
      "Jan       1\n",
      "Feb       5\n",
      "March    -7\n",
      "April    10\n",
      "Name: the 04 months targes, dtype: int64\n"
     ]
    }
   ],
   "source": [
    "print (obj1)"
   ]
  },
  {
   "cell_type": "code",
   "execution_count": 11,
   "metadata": {},
   "outputs": [],
   "source": [
    "obj1 = obj1 * 2 "
   ]
  },
  {
   "cell_type": "code",
   "execution_count": 12,
   "metadata": {},
   "outputs": [
    {
     "name": "stdout",
     "output_type": "stream",
     "text": [
      "Jan       2\n",
      "Feb      10\n",
      "March   -14\n",
      "April    20\n",
      "Name: the 04 months targes, dtype: int64\n"
     ]
    }
   ],
   "source": [
    "print (obj1)"
   ]
  },
  {
   "cell_type": "markdown",
   "metadata": {},
   "source": [
    "# return the same value "
   ]
  },
  {
   "cell_type": "code",
   "execution_count": 20,
   "metadata": {},
   "outputs": [
    {
     "name": "stdout",
     "output_type": "stream",
     "text": [
      "Jan      0.125\n",
      "Feb      0.625\n",
      "March   -0.875\n",
      "April    1.250\n",
      "Name: the 04 months targes, dtype: float64\n"
     ]
    }
   ],
   "source": [
    "obj1 = obj1 / 2\n",
    "print (obj1)"
   ]
  },
  {
   "cell_type": "markdown",
   "metadata": {},
   "source": [
    "# finding the value in the pandas series "
   ]
  },
  {
   "cell_type": "code",
   "execution_count": 25,
   "metadata": {},
   "outputs": [
    {
     "name": "stdout",
     "output_type": "stream",
     "text": [
      "True\n"
     ]
    }
   ],
   "source": [
    "a = \"Jan\" in obj1\n",
    "print (a)"
   ]
  },
  {
   "cell_type": "markdown",
   "metadata": {},
   "source": [
    "# CONVERT DATA FROM NUMPY ARRAY TO PANDAS SERIES "
   ]
  },
  {
   "cell_type": "code",
   "execution_count": 28,
   "metadata": {},
   "outputs": [
    {
     "name": "stdout",
     "output_type": "stream",
     "text": [
      "a    1\n",
      "b    2\n",
      "c    3\n",
      "d    4\n",
      "d    5\n",
      "dtype: int32\n"
     ]
    }
   ],
   "source": [
    "import numpy as np \n",
    "\n",
    "ary = np.array ([1,2,3,4,5])\n",
    "ind = np.array([\"a\", \"b\", \"c\", \"d\", \"d\"])\n",
    "obj2 = pd.Series(ary, index = ind)\n",
    "\n",
    "print (obj2)"
   ]
  },
  {
   "cell_type": "markdown",
   "metadata": {},
   "source": [
    "# CONVERT DATA FROM NUMPY DICTIONARY TO PANDAS SERIES"
   ]
  },
  {
   "cell_type": "code",
   "execution_count": 30,
   "metadata": {},
   "outputs": [
    {
     "name": "stdout",
     "output_type": "stream",
     "text": [
      "Sindh           350000\n",
      "Punjab            2500\n",
      "Baluchinstan      2000\n",
      "AJK               1500\n",
      "dtype: int64\n"
     ]
    }
   ],
   "source": [
    "sdata = {\"Sindh\": 350000, \"Punjab\": 2500, \"Baluchinstan\": 2000, \"AJK\": 1500}\n",
    "\n",
    "tax_by_state = pd.Series(sdata)\n",
    "\n",
    "print (tax_by_state)"
   ]
  },
  {
   "cell_type": "code",
   "execution_count": 31,
   "metadata": {},
   "outputs": [
    {
     "name": "stdout",
     "output_type": "stream",
     "text": [
      "[350000   2500   2000   1500]\n"
     ]
    }
   ],
   "source": [
    "print (tax_by_state.values)"
   ]
  },
  {
   "cell_type": "code",
   "execution_count": 32,
   "metadata": {},
   "outputs": [
    {
     "name": "stdout",
     "output_type": "stream",
     "text": [
      "Index(['Sindh', 'Punjab', 'Baluchinstan', 'AJK'], dtype='object')\n"
     ]
    }
   ],
   "source": [
    "print (tax_by_state.index)"
   ]
  },
  {
   "cell_type": "code",
   "execution_count": 34,
   "metadata": {},
   "outputs": [
    {
     "name": "stdout",
     "output_type": "stream",
     "text": [
      "Punjab            2500\n",
      "Sindh           350000\n",
      "Baluchinstan      2000\n",
      "KPK               1500\n",
      "dtype: int64\n"
     ]
    }
   ],
   "source": [
    "sdata = {\"Sindh\": 350000, \"Punjab\": 2500, \"Baluchinstan\": 2000, \"KPK\": 1500}\n",
    "\n",
    "tax_by_state = pd.Series(sdata, index= [\"Punjab\", \"Sindh\", \"Baluchinstan\", \"KPK\"])\n",
    "\n",
    "print (tax_by_state)"
   ]
  },
  {
   "cell_type": "markdown",
   "metadata": {},
   "source": [
    "**we can import from the follwing methods into the series **\n",
    "* we can input directly to series\n",
    "* we can import data from dictionary \n",
    "* we can import data from array "
   ]
  },
  {
   "cell_type": "markdown",
   "metadata": {},
   "source": [
    "# find out the null values "
   ]
  },
  {
   "cell_type": "code",
   "execution_count": 37,
   "metadata": {},
   "outputs": [
    {
     "name": "stdout",
     "output_type": "stream",
     "text": [
      "Punjab            2500.0\n",
      "Sindh           350000.0\n",
      "Baluchinstan      2000.0\n",
      "KPK               1500.0\n",
      "GB                   NaN\n",
      "dtype: float64\n"
     ]
    }
   ],
   "source": [
    "# NaN null values means,the values dosnt exists in the pandas series \n",
    "\n",
    "sdata = {\"Sindh\": 350000, \"Punjab\": 2500, \"Baluchinstan\": 2000, \"KPK\": 1500}\n",
    "\n",
    "tax_by_state = pd.Series(sdata, index= [\"Punjab\", \"Sindh\", \"Baluchinstan\", \"KPK\", \"GB\"])\n",
    "\n",
    "print (tax_by_state)"
   ]
  },
  {
   "cell_type": "code",
   "execution_count": 38,
   "metadata": {},
   "outputs": [
    {
     "name": "stdout",
     "output_type": "stream",
     "text": [
      "Punjab          False\n",
      "Sindh           False\n",
      "Baluchinstan    False\n",
      "KPK             False\n",
      "GB               True\n",
      "dtype: bool\n"
     ]
    }
   ],
   "source": [
    "print (pd.isnull(tax_by_state))"
   ]
  },
  {
   "cell_type": "markdown",
   "metadata": {},
   "source": [
    "# inserting the name of the index and values "
   ]
  },
  {
   "cell_type": "code",
   "execution_count": 40,
   "metadata": {},
   "outputs": [
    {
     "name": "stdout",
     "output_type": "stream",
     "text": [
      "states name \n",
      "Punjab            2500.0\n",
      "Sindh           350000.0\n",
      "Baluchinstan      2000.0\n",
      "KPK               1500.0\n",
      "GB                   NaN\n",
      "Name: amount of tax  , dtype: float64\n"
     ]
    }
   ],
   "source": [
    "sdata = {\"Sindh\": 350000, \"Punjab\": 2500, \"Baluchinstan\": 2000, \"KPK\": 1500}\n",
    "\n",
    "tax_by_state = pd.Series(sdata, index= [\"Punjab\", \"Sindh\", \"Baluchinstan\", \"KPK\", \"GB\"])\n",
    "\n",
    "tax_by_state.name = \"amount of tax  \"\n",
    "\n",
    "tax_by_state.index.name = \"states name \"\n",
    "\n",
    "print (tax_by_state)"
   ]
  },
  {
   "cell_type": "markdown",
   "metadata": {},
   "source": [
    "# changing the indexing by manually "
   ]
  },
  {
   "cell_type": "code",
   "execution_count": 42,
   "metadata": {},
   "outputs": [
    {
     "name": "stdout",
     "output_type": "stream",
     "text": [
      "M      150\n",
      "Tu     100\n",
      "Wed     30\n",
      "th      20\n",
      "Fr      25\n",
      "sat    300\n",
      "sun    200\n",
      "Name: Weekly sale data of the canteen , dtype: int64\n"
     ]
    }
   ],
   "source": [
    "canteen = pd.Series([150,100,30,20,25,300,200], index=[\"Monday\", \"Tuesday\", \"Wednesday\", \"Thursday\", \"Friday\", \"saturday\", \"Sunday\"], name=\"Weekly sale data of the canteen \")\n",
    "\n",
    "canteen.index = [\"M\", \"Tu\", \"Wed\", \"th\", \"Fr\", \"sat\", \"sun\"]\n",
    "print (canteen)"
   ]
  },
  {
   "cell_type": "code",
   "execution_count": null,
   "metadata": {},
   "outputs": [],
   "source": []
  }
 ],
 "metadata": {
  "kernelspec": {
   "display_name": "Python 3",
   "language": "python",
   "name": "python3"
  },
  "language_info": {
   "codemirror_mode": {
    "name": "ipython",
    "version": 3
   },
   "file_extension": ".py",
   "mimetype": "text/x-python",
   "name": "python",
   "nbconvert_exporter": "python",
   "pygments_lexer": "ipython3",
   "version": "3.7.4"
  }
 },
 "nbformat": 4,
 "nbformat_minor": 2
}
