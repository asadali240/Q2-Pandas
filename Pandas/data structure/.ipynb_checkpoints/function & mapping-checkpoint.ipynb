{
 "cells": [
  {
   "cell_type": "code",
   "execution_count": 1,
   "metadata": {},
   "outputs": [
    {
     "name": "stdout",
     "output_type": "stream",
     "text": [
      "               b         d         e\n",
      "utha    2.071436 -2.042424  0.094762\n",
      "ohio   -1.337567  0.142093  1.183544\n",
      "Texas  -1.722832 -0.418578  1.287581\n",
      "oregon -0.950607 -0.429002  1.625018\n",
      "\n",
      "                  b         d         e\n",
      "Min Value  2.071436  0.142093  1.625018\n",
      "Max Value -1.722832 -2.042424  0.094762 <class 'pandas.core.frame.DataFrame'>\n"
     ]
    }
   ],
   "source": [
    "import numpy as np \n",
    "import pandas as pd \n",
    "\n",
    "frame = frame = pd.DataFrame(np.random.randn(4,3),\n",
    "                            columns= list (\"bde\"),\n",
    "                            index = [\"utha\", \"ohio\", \"Texas\", \"oregon\"])\n",
    "\n",
    "print (frame)\n",
    "print ()\n",
    "# print (np.abs(frame))\n",
    "# print (frame[\"d\"].min())\n",
    "# print (frame[\"d\"].max())\n",
    "# print (frame[\"d\"].max() - frame[\"d\"].min())\n",
    "\n",
    "# f = lambda x: x.max() - x.min()\n",
    "# df = frame.apply(f)\n",
    "# print (df,type(df))\n",
    "# df = frame.apply(f,axis=1)\n",
    "# print (df)\n",
    "\n",
    "def min_max(x):\n",
    "    minimum = x.min()\n",
    "    maximum = x.max()\n",
    "    return pd.Series([maximum, minimum], index= [\"Min Value\", \"Max Value\"])\n",
    "\n",
    "df = frame.apply(min_max)\n",
    "print (df, type(df))"
   ]
  },
  {
   "cell_type": "markdown",
   "metadata": {},
   "source": [
    "# practising the code "
   ]
  },
  {
   "cell_type": "code",
   "execution_count": 2,
   "metadata": {},
   "outputs": [
    {
     "name": "stdout",
     "output_type": "stream",
     "text": [
      "                  A         B         C\n",
      "Hyderabad  0.825943  1.104010 -1.218000\n",
      "Karachi    0.402644  0.233358  1.998233\n",
      "Islamabad  1.006702  0.122594 -0.382899\n",
      "Lahore    -0.551389  0.727150 -0.704596\n",
      "\n",
      "\n",
      "the maximum value of A Column is \n",
      " : 1.0067018702284627\n",
      "\n",
      "the maximum value of B Column is \n",
      " : 1.104009641163892\n",
      "\n",
      "the maximum value of C Column is \n",
      " : 1.9982331712224688\n",
      "\n",
      "                  A         B         C\n",
      "Hyderabad  0.825943  1.104010  1.218000\n",
      "Karachi    0.402644  0.233358  1.998233\n",
      "Islamabad  1.006702  0.122594  0.382899\n",
      "Lahore     0.551389  0.727150  0.704596\n",
      "\n",
      "the minimum value of A column is \n",
      "  -0.5513893982489941\n",
      "\n",
      "the minimum value of B column is \n",
      "  0.1225937844777666\n",
      "\n",
      "the minimum value of C column is \n",
      "  -1.2179999133260921\n",
      "\n",
      "1.5580912684774568\n",
      "\n",
      "the data type of fram is  <class 'pandas.core.frame.DataFrame'>\n",
      "\n"
     ]
    }
   ],
   "source": [
    "import numpy as np \n",
    "import pandas as pd \n",
    "\n",
    "frame = frame = pd.DataFrame(np.random.randn(4,3),\n",
    "                            columns=(\"A\", \"B\", \"C\"), \n",
    "                            index = [\"Hyderabad\", \"Karachi\", \"Islamabad\", \"Lahore\"])\n",
    "print (frame)\n",
    "print ()\n",
    "# print (\"the Maximum value is \\n \", frame.max())\n",
    "print ()\n",
    "print (\"the maximum value of A Column is \\n :\", frame[\"A\"].max())\n",
    "print ()\n",
    "print (\"the maximum value of B Column is \\n :\", frame[\"B\"].max())\n",
    "print ()\n",
    "print (\"the maximum value of C Column is \\n :\", frame[\"C\"].max())\n",
    "print ()\n",
    "print (np.abs(frame))\n",
    "print ()\n",
    "print (\"the minimum value of A column is \\n \", frame[\"A\"].min())\n",
    "print ()\n",
    "print (\"the minimum value of B column is \\n \", frame[\"B\"].min())\n",
    "print ()\n",
    "print (\"the minimum value of C column is \\n \", frame[\"C\"].min())\n",
    "\n",
    "print ()\n",
    "print (frame[\"A\"].max() - frame[\"A\"].min())\n",
    "\n",
    "print ()\n",
    "print (\"the data type of fram is \", type(frame))\n",
    "\n",
    "print ()\n",
    "\n"
   ]
  },
  {
   "cell_type": "markdown",
   "metadata": {},
   "source": [
    "# using the lambda function "
   ]
  },
  {
   "cell_type": "code",
   "execution_count": 3,
   "metadata": {},
   "outputs": [
    {
     "name": "stdout",
     "output_type": "stream",
     "text": [
      "A    1.558091\n",
      "B    0.981416\n",
      "C    3.216233\n",
      "dtype: float64\n"
     ]
    }
   ],
   "source": [
    "substraction = lambda x: x.max() - x.min()\n",
    "df = frame.apply(substraction)\n",
    "print (df)"
   ]
  },
  {
   "cell_type": "markdown",
   "metadata": {},
   "source": [
    "# using the maximum function "
   ]
  },
  {
   "cell_type": "code",
   "execution_count": 4,
   "metadata": {},
   "outputs": [
    {
     "name": "stdout",
     "output_type": "stream",
     "text": [
      "                       A         B         C\n",
      "Minimum Value  -0.551389  0.122594 -1.218000\n",
      "Maximum value   1.006702  1.104010  1.998233\n"
     ]
    }
   ],
   "source": [
    "def min_max(x):\n",
    "    minimum = x.min()\n",
    "    maximum = x.max()\n",
    "    \n",
    "    return pd.Series([minimum, maximum], index= [\"Minimum Value \", \"Maximum value\"])\n",
    "\n",
    "df = frame.apply(min_max) # applying / calling the function \n",
    "                          # and save in the variable    \n",
    "print (df)\n",
    "    \n",
    "    "
   ]
  },
  {
   "cell_type": "code",
   "execution_count": null,
   "metadata": {},
   "outputs": [],
   "source": []
  }
 ],
 "metadata": {
  "kernelspec": {
   "display_name": "Python 3",
   "language": "python",
   "name": "python3"
  },
  "language_info": {
   "codemirror_mode": {
    "name": "ipython",
    "version": 3
   },
   "file_extension": ".py",
   "mimetype": "text/x-python",
   "name": "python",
   "nbconvert_exporter": "python",
   "pygments_lexer": "ipython3",
   "version": "3.8.5"
  }
 },
 "nbformat": 4,
 "nbformat_minor": 4
}
