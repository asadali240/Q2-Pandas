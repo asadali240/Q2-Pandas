{
 "cells": [
  {
   "cell_type": "markdown",
   "metadata": {},
   "source": [
    "# sorting in series by value and index "
   ]
  },
  {
   "cell_type": "code",
   "execution_count": 23,
   "metadata": {},
   "outputs": [
    {
     "name": "stdout",
     "output_type": "stream",
     "text": [
      "1    3\n",
      "2    2\n",
      "3    0\n",
      "4    1\n",
      "dtype: int64\n",
      "\n",
      "3    0\n",
      "4    1\n",
      "2    2\n",
      "1    3\n",
      "dtype: int64\n"
     ]
    }
   ],
   "source": [
    "import numpy as np \n",
    "import pandas as pd\n",
    "\n",
    "obj = pd.Series(range(4), index=[3,4,2,1])\n",
    "print (obj.sort_index())\n",
    "print ()\n",
    "print (obj.sort_values())\n"
   ]
  },
  {
   "cell_type": "markdown",
   "metadata": {},
   "source": [
    "# sorting by value and index & set the missing values "
   ]
  },
  {
   "cell_type": "code",
   "execution_count": 28,
   "metadata": {},
   "outputs": [
    {
     "name": "stdout",
     "output_type": "stream",
     "text": [
      "2   -7.0\n",
      "0    1.0\n",
      "4    8.0\n",
      "1    NaN\n",
      "3    NaN\n",
      "dtype: float64\n",
      "\n",
      "<bound method Series.sort_index of 0    1.0\n",
      "1    NaN\n",
      "2   -7.0\n",
      "3    NaN\n",
      "4    8.0\n",
      "dtype: float64>\n"
     ]
    }
   ],
   "source": [
    "# the missing values in the series by default go to the end of the sorting\n",
    "obj1 = pd.Series([1,np.nan, -7, np.nan, 8])   \n",
    "print (obj1.sort_values())\n",
    "print ()\n",
    "# but in the index sorting the missing value will not be gone at end \n",
    "print (obj1.sort_index)"
   ]
  },
  {
   "cell_type": "markdown",
   "metadata": {},
   "source": [
    "# sorting by data frame "
   ]
  },
  {
   "cell_type": "code",
   "execution_count": 17,
   "metadata": {},
   "outputs": [
    {
     "name": "stdout",
     "output_type": "stream",
     "text": [
      "       a  b  c  d\n",
      "three  0  1  2  3\n",
      "one    4  5  6  7\n",
      "\n",
      "       d  c  b  a\n",
      "three  3  2  1  0\n",
      "one    7  6  5  4\n",
      "\n",
      "       a  b  c  d\n",
      "one    4  5  6  7\n",
      "three  0  1  2  3\n"
     ]
    },
    {
     "data": {
      "text/plain": [
       "'\\nabcd\\n'"
      ]
     },
     "execution_count": 17,
     "metadata": {},
     "output_type": "execute_result"
    }
   ],
   "source": [
    "import numpy as np \n",
    "import pandas as pd \n",
    "\n",
    "frame = pd.DataFrame(np.arange(8).reshape((2,4)),\n",
    "                    index=[\"three\", \"one\"],\n",
    "                    columns=[\"a\", \"b\", \"c\", \"d\"])\n",
    "print (frame)\n",
    "print ()\n",
    "print (frame.sort_index(axis = 1, ascending= False))\n",
    "print ()\n",
    "print (frame.sort_index())\n",
    "\n",
    "# by default in sort have axis = 0, ascending = True\n",
    "\n"
   ]
  },
  {
   "cell_type": "code",
   "execution_count": 35,
   "metadata": {},
   "outputs": [
    {
     "name": "stdout",
     "output_type": "stream",
     "text": [
      "   a  b\n",
      "0  0  4\n",
      "1  1  7\n",
      "2  0 -3\n",
      "3  1  2\n",
      "\n",
      "   a  b\n",
      "2  0 -3\n",
      "3  1  2\n",
      "0  0  4\n",
      "1  1  7\n",
      "\n",
      "   a  b\n",
      "2  0 -3\n",
      "3  1  2\n",
      "0  0  4\n",
      "1  1  7\n",
      "\n",
      "   a  b\n",
      "2  0 -3\n",
      "0  0  4\n",
      "3  1  2\n",
      "1  1  7\n"
     ]
    }
   ],
   "source": [
    "frame = pd.DataFrame({\"a\":[0,1,0,1], \"b\": [4,7,-3,2] })\n",
    "print (frame)\n",
    "print ()\n",
    "print (frame.sort_values(by = \"b\")) # sorting by column manually \n",
    "print ()\n",
    "print (frame.sort_values(by=[\"b\", \"a\"])) # in this sorting the a not sorting\n",
    "print ()\n",
    "print (frame.sort_values(by=[\"a\", \"b\"])) # both values are sorted now "
   ]
  },
  {
   "cell_type": "markdown",
   "metadata": {},
   "source": [
    "# ranking "
   ]
  },
  {
   "cell_type": "code",
   "execution_count": 39,
   "metadata": {},
   "outputs": [
    {
     "name": "stdout",
     "output_type": "stream",
     "text": [
      "0    5.0\n",
      "1    1.0\n",
      "2    6.0\n",
      "3    3.0\n",
      "4    2.0\n",
      "5    4.0\n",
      "dtype: float64\n",
      "\n",
      "0    5.0\n",
      "1    1.0\n",
      "2    6.0\n",
      "3    3.0\n",
      "4    2.0\n",
      "5    4.0\n",
      "dtype: float64\n",
      "0    2.0\n",
      "1    6.0\n",
      "2    1.0\n",
      "3    4.0\n",
      "4    5.0\n",
      "5    3.0\n",
      "dtype: float64\n"
     ]
    }
   ],
   "source": [
    "obj2 = pd.Series([7,2,8,4,3,5])\n",
    "print (obj2.rank())\n",
    "print ()\n",
    "print (obj2.rank(method = \"first\"))\n",
    "\n",
    "# assign tie values the maximum rank in the group \n",
    "\n",
    "print (obj2.rank(ascending = False, method = \"max\" ))\n",
    "\n",
    "# average \n",
    "# minimum \n",
    "# maximum \n",
    "# first \n",
    "# dense \n",
    "# use the minimum value of whole group \n",
    "# use the maximum value of whole group \n",
    "# assign ranks in the order the value appear in data \n",
    "# like method = 1 but ranks always increse by 1 b/w groups \n"
   ]
  },
  {
   "cell_type": "code",
   "execution_count": null,
   "metadata": {},
   "outputs": [],
   "source": []
  }
 ],
 "metadata": {
  "kernelspec": {
   "display_name": "Python 3",
   "language": "python",
   "name": "python3"
  },
  "language_info": {
   "codemirror_mode": {
    "name": "ipython",
    "version": 3
   },
   "file_extension": ".py",
   "mimetype": "text/x-python",
   "name": "python",
   "nbconvert_exporter": "python",
   "pygments_lexer": "ipython3",
   "version": "3.8.5"
  }
 },
 "nbformat": 4,
 "nbformat_minor": 4
}
