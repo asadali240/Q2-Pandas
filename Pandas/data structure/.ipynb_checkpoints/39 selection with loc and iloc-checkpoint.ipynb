{
 "cells": [
  {
   "cell_type": "code",
   "execution_count": 10,
   "metadata": {},
   "outputs": [
    {
     "name": "stdout",
     "output_type": "stream",
     "text": [
      "           one  two  three  four\n",
      "ohio         0    1      2     3\n",
      "colorando    4    5      6     7\n",
      "utah         8    9     10    11\n",
      "newyork     12   13     14    15\n",
      "\n",
      "ohio          0\n",
      "colorando     4\n",
      "utah          8\n",
      "newyork      12\n",
      "Name: one, dtype: int32\n"
     ]
    }
   ],
   "source": [
    "import pandas as pd \n",
    "import numpy as np\n",
    "\n",
    "\n",
    "data_df = pd.DataFrame(np.arange(16).reshape((4,4)),\n",
    "                      index = [\"ohio\", \"colorando\", \"utah\", \"newyork\"],\n",
    "                      columns = [\"one\", \"two\", \"three\", \"four\"])\n",
    "\n",
    "print (data_df)\n",
    "print ()\n",
    "\n",
    "print (data_df.one) # this is the attribute style to calling the column "
   ]
  },
  {
   "cell_type": "markdown",
   "metadata": {},
   "source": [
    "# accesing the data in different ways "
   ]
  },
  {
   "cell_type": "code",
   "execution_count": 13,
   "metadata": {},
   "outputs": [
    {
     "name": "stdout",
     "output_type": "stream",
     "text": [
      "ohio         0\n",
      "colorando    4\n",
      "Name: one, dtype: int32\n"
     ]
    }
   ],
   "source": [
    "print (data_df.one[:2])   # we also define the range of the rows "
   ]
  },
  {
   "cell_type": "code",
   "execution_count": 14,
   "metadata": {},
   "outputs": [
    {
     "name": "stdout",
     "output_type": "stream",
     "text": [
      "utah        8\n",
      "newyork    12\n",
      "Name: one, dtype: int32\n"
     ]
    }
   ],
   "source": [
    "print (data_df[\"one\"][2:])  # defining the second way "
   ]
  },
  {
   "cell_type": "markdown",
   "metadata": {},
   "source": [
    "# conditional filtering "
   ]
  },
  {
   "cell_type": "code",
   "execution_count": 20,
   "metadata": {},
   "outputs": [
    {
     "name": "stdout",
     "output_type": "stream",
     "text": [
      "this is the 1st way to filtering the data \n",
      "\n",
      "           one  two  three  four\n",
      "colorando    4    5      6     7\n",
      "utah         8    9     10    11\n",
      "newyork     12   13     14    15\n",
      "\n",
      "this is the second way to filtering the data\n",
      "\n",
      "colorando     7\n",
      "utah         11\n",
      "newyork      15\n",
      "Name: four, dtype: int32\n"
     ]
    }
   ],
   "source": [
    "print (\"this is the 1st way to filtering the data \")\n",
    "print ()\n",
    "print (data_df[data_df[\"three\"] > 5])\n",
    "\n",
    "print ()\n",
    "\n",
    "print (\"this is the second way to filtering the data\")\n",
    "print ()\n",
    "print (data_df.four[data_df[\"three\"]> 5])"
   ]
  },
  {
   "cell_type": "markdown",
   "metadata": {},
   "source": [
    "# selection with loc and iloc \n",
    "* in the loc method we retrieve the data through rows labels and index"
   ]
  },
  {
   "cell_type": "code",
   "execution_count": 32,
   "metadata": {},
   "outputs": [
    {
     "name": "stdout",
     "output_type": "stream",
     "text": [
      "           one  two  three  four\n",
      "ohio         0    1      2     3\n",
      "colorando    4    5      6     7\n",
      "utah         8    9     10    11\n",
      "newyork     12   13     14    15\n",
      "           two  three\n",
      "colorando    5      6\n",
      "ohio         1      2\n"
     ]
    }
   ],
   "source": [
    "data_df = pd.DataFrame(np.arange(16).reshape((4,4)),\n",
    "                      index = [\"ohio\", \"colorando\", \"utah\", \"newyork\"],\n",
    "                      columns = [\"one\", \"two\", \"three\", \"four\"])\n",
    "\n",
    "print (data_df)\n",
    "print (data_df.loc[[\"colorando\",\"ohio\"], [\"two\", \"three\"]])\n",
    "\n",
    "\n"
   ]
  },
  {
   "cell_type": "markdown",
   "metadata": {},
   "source": [
    "# iloc like a fancy indexing"
   ]
  },
  {
   "cell_type": "code",
   "execution_count": 35,
   "metadata": {},
   "outputs": [
    {
     "name": "stdout",
     "output_type": "stream",
     "text": [
      "           one  two  three  four\n",
      "ohio         0    1      2     3\n",
      "colorando    4    5      6     7\n",
      "utah         8    9     10    11\n",
      "newyork     12   13     14    15\n",
      "\n",
      "\n",
      "four    11\n",
      "one      8\n",
      "two      9\n",
      "Name: utah, dtype: int32\n"
     ]
    }
   ],
   "source": [
    "print (data_df)\n",
    "print (\"\\n\")\n",
    "print (data_df.iloc[2,[3,0,1]])"
   ]
  },
  {
   "cell_type": "code",
   "execution_count": 38,
   "metadata": {},
   "outputs": [
    {
     "name": "stdout",
     "output_type": "stream",
     "text": [
      "printing the whole dataframe\n",
      "           one  two  three  four\n",
      "ohio         0    1      2     3\n",
      "colorando    4    5      6     7\n",
      "utah         8    9     10    11\n",
      "newyork     12   13     14    15\n"
     ]
    }
   ],
   "source": [
    "print (\"printing the whole dataframe\")\n",
    "\n",
    "print (data_df.iloc[:])"
   ]
  },
  {
   "cell_type": "code",
   "execution_count": null,
   "metadata": {},
   "outputs": [],
   "source": []
  }
 ],
 "metadata": {
  "kernelspec": {
   "display_name": "Python 3",
   "language": "python",
   "name": "python3"
  },
  "language_info": {
   "codemirror_mode": {
    "name": "ipython",
    "version": 3
   },
   "file_extension": ".py",
   "mimetype": "text/x-python",
   "name": "python",
   "nbconvert_exporter": "python",
   "pygments_lexer": "ipython3",
   "version": "3.8.5"
  }
 },
 "nbformat": 4,
 "nbformat_minor": 4
}
