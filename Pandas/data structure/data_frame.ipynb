{
 "cells": [
  {
   "cell_type": "code",
   "execution_count": 1,
   "metadata": {},
   "outputs": [],
   "source": [
    "import pandas as pd "
   ]
  },
  {
   "cell_type": "code",
   "execution_count": 2,
   "metadata": {},
   "outputs": [
    {
     "name": "stdout",
     "output_type": "stream",
     "text": [
      "0    3\n",
      "1    2\n",
      "2    0\n",
      "3    1\n",
      "dtype: int64 0    3\n",
      "1    2\n",
      "2    0\n",
      "3    1\n",
      "dtype: int64\n"
     ]
    }
   ],
   "source": [
    "apple = pd.Series([3,2,0,1])\n",
    "orange = pd.Series([3,2,0,1])\n",
    "print (apple, orange)"
   ]
  },
  {
   "cell_type": "code",
   "execution_count": 3,
   "metadata": {},
   "outputs": [
    {
     "name": "stdout",
     "output_type": "stream",
     "text": [
      "   apple  oranges\n",
      "0      3        3\n",
      "1      2        2\n",
      "2      0        0\n",
      "3      1        1\n"
     ]
    }
   ],
   "source": [
    "apple = pd.Series([3,2,0,1])\n",
    "orange = pd.Series([3,2,0,1])\n",
    "\n",
    "data = {\"apple\":apple, \"oranges\": orange}\n",
    "\n",
    "fruit_df = pd.DataFrame(data)\n",
    "\n",
    "print (fruit_df)"
   ]
  },
  {
   "cell_type": "markdown",
   "metadata": {},
   "source": [
    "# provinces population data frame "
   ]
  },
  {
   "cell_type": "code",
   "execution_count": 4,
   "metadata": {},
   "outputs": [
    {
     "name": "stdout",
     "output_type": "stream",
     "text": [
      "      state  Year  pop\n",
      "1st   sindh  2003  2.3\n",
      "2nd   sindh  2004  4.5\n",
      "3rd   sindh  2005  3.6\n",
      "4th  punjab  2006  5.2\n",
      "5th  punjab  2007  8.9\n",
      "6th  punjab  2008  7.3\n"
     ]
    }
   ],
   "source": [
    "\n",
    "state = [\"sindh\", \"sindh\", \"sindh\", \"punjab\", \"punjab\", \"punjab\"]\n",
    "\n",
    "data = {\"state\": state,\n",
    "       \"Year\": [2003,2004,2005,2006,2007,2008],\n",
    "        \"pop\": [2.3,4.5,3.6,5.2,8.9,7.3]\n",
    "       }\n",
    "frame_df = pd.DataFrame(data, index= [\"1st\", \"2nd\", \"3rd\", \"4th\", \"5th\", \"6th\"])\n",
    "print (frame_df)"
   ]
  },
  {
   "cell_type": "code",
   "execution_count": 5,
   "metadata": {},
   "outputs": [
    {
     "name": "stdout",
     "output_type": "stream",
     "text": [
      "      state  Year  pop\n",
      "1st   sindh  2003  2.3\n",
      "2nd   sindh  2004  4.5\n",
      "3rd   sindh  2005  3.6\n",
      "4th  punjab  2006  5.2\n",
      "5th  punjab  2007  8.9\n"
     ]
    }
   ],
   "source": [
    "print (frame_df.head())"
   ]
  },
  {
   "cell_type": "markdown",
   "metadata": {},
   "source": [
    "# adding the columns by own defined "
   ]
  },
  {
   "cell_type": "code",
   "execution_count": 6,
   "metadata": {},
   "outputs": [
    {
     "name": "stdout",
     "output_type": "stream",
     "text": [
      "   Year   state  pop\n",
      "0  2003   sindh  2.3\n",
      "1  2004   sindh  4.5\n",
      "2  2005   sindh  3.6\n",
      "3  2006  punjab  5.2\n",
      "4  2007  punjab  8.9\n"
     ]
    }
   ],
   "source": [
    "state = [\"sindh\", \"sindh\", \"sindh\", \"punjab\", \"punjab\", \"punjab\"]\n",
    "\n",
    "data = {\"state\": state,\n",
    "       \"Year\": [2003,2004,2005,2006,2007,2008],\n",
    "        \"pop\": [2.3,4.5,3.6,5.2,8.9,7.3]\n",
    "       }\n",
    "frame_df = pd.DataFrame(data, columns=[\"Year\", \"state\", \"pop\"])\n",
    "print (frame_df.head())"
   ]
  },
  {
   "cell_type": "markdown",
   "metadata": {},
   "source": [
    "# adding the columns and also index with more than required columns "
   ]
  },
  {
   "cell_type": "code",
   "execution_count": 7,
   "metadata": {},
   "outputs": [
    {
     "name": "stdout",
     "output_type": "stream",
     "text": [
      "       Year   state  pop debt\n",
      "One    2003   sindh  2.3  NaN\n",
      "Two    2004   sindh  4.5  NaN\n",
      "Three  2005   sindh  3.6  NaN\n",
      "Four   2006  punjab  5.2  NaN\n",
      "Five   2007  punjab  8.9  NaN\n"
     ]
    }
   ],
   "source": [
    "state = [\"sindh\", \"sindh\", \"sindh\", \"punjab\", \"punjab\", \"punjab\"]\n",
    "\n",
    "data = {\"state\": state,\n",
    "       \"Year\": [2003,2004,2005,2006,2007,2008],\n",
    "        \"pop\": [2.3,4.5,3.6,5.2,8.9,7.3]\n",
    "       }\n",
    "frame_df = pd.DataFrame(data, columns=[\"Year\", \"state\", \"pop\",\"debt\"], \n",
    "                        index= [\"One\", \"Two\", \"Three\", \"Four\", \"Five\", \"Six\"])\n",
    "print (frame_df.head())"
   ]
  },
  {
   "cell_type": "code",
   "execution_count": 8,
   "metadata": {},
   "outputs": [
    {
     "name": "stdout",
     "output_type": "stream",
     "text": [
      "this shows the columns name not a index dont be confused by the index name \n",
      "\n",
      "this is columns name  Index(['Year', 'state', 'pop', 'debt'], dtype='object')\n",
      "\n",
      "Index(['One', 'Two', 'Three', 'Four', 'Five', 'Six'], dtype='object')\n"
     ]
    }
   ],
   "source": [
    "print (\"this shows the columns name not a index dont be confused by the index name \")\n",
    "print ()\n",
    "print (\"this is columns name \",frame_df.columns)\n",
    "print ()\n",
    "print (frame_df.index)"
   ]
  },
  {
   "cell_type": "markdown",
   "metadata": {},
   "source": [
    "# retrieved the data from the columns and series and dictionary like notation"
   ]
  },
  {
   "cell_type": "code",
   "execution_count": 9,
   "metadata": {},
   "outputs": [
    {
     "name": "stdout",
     "output_type": "stream",
     "text": [
      "{'state': ['sindh', 'sindh', 'sindh', 'punjab', 'punjab', 'punjab'], 'Year': [2003, 2004, 2005, 2006, 2007, 2008], 'pop': [2.3, 4.5, 3.6, 5.2, 8.9, 7.3]}\n"
     ]
    }
   ],
   "source": [
    "print (data)"
   ]
  },
  {
   "cell_type": "code",
   "execution_count": 10,
   "metadata": {},
   "outputs": [
    {
     "name": "stdout",
     "output_type": "stream",
     "text": [
      "['sindh', 'sindh', 'sindh', 'punjab', 'punjab', 'punjab']\n",
      "One      2003\n",
      "Two      2004\n",
      "Three    2005\n",
      "Four     2006\n",
      "Five     2007\n",
      "Six      2008\n",
      "Name: Year, dtype: int64\n",
      "One      2.3\n",
      "Two      4.5\n",
      "Three    3.6\n",
      "Four     5.2\n",
      "Five     8.9\n",
      "Six      7.3\n",
      "Name: pop, dtype: float64\n"
     ]
    }
   ],
   "source": [
    "print (data[\"state\"])\n",
    "print (frame_df[\"Year\"])  # call the dictionary key thorough data frame object is called dic like notation\n",
    "print (frame_df[\"pop\"])     # call the dictionary key thorough data frame object it is called dic like notation"
   ]
  },
  {
   "cell_type": "markdown",
   "metadata": {},
   "source": [
    "# this is state like style "
   ]
  },
  {
   "cell_type": "code",
   "execution_count": 11,
   "metadata": {},
   "outputs": [
    {
     "name": "stdout",
     "output_type": "stream",
     "text": [
      "this is the dictionary like notation method or way to retrieve the data\n",
      "\n",
      "One       sindh\n",
      "Two       sindh\n",
      "Three     sindh\n",
      "Four     punjab\n",
      "Five     punjab\n",
      "Six      punjab\n",
      "Name: state, dtype: object\n"
     ]
    }
   ],
   "source": [
    "print (\"this is the dictionary like notation method or way to retrieve the data\")\n",
    "print ()\n",
    "print (frame_df[\"state\"])"
   ]
  },
  {
   "cell_type": "markdown",
   "metadata": {},
   "source": [
    "# this is the arribute like style "
   ]
  },
  {
   "cell_type": "code",
   "execution_count": 12,
   "metadata": {},
   "outputs": [
    {
     "name": "stdout",
     "output_type": "stream",
     "text": [
      "this is the attribute style to access or retrieve the data \n",
      "\n",
      "One      2003\n",
      "Two      2004\n",
      "Three    2005\n",
      "Four     2006\n",
      "Five     2007\n",
      "Six      2008\n",
      "Name: Year, dtype: int64\n",
      "\n",
      "<bound method DataFrame.pop of        Year   state  pop debt\n",
      "One    2003   sindh  2.3  NaN\n",
      "Two    2004   sindh  4.5  NaN\n",
      "Three  2005   sindh  3.6  NaN\n",
      "Four   2006  punjab  5.2  NaN\n",
      "Five   2007  punjab  8.9  NaN\n",
      "Six    2008  punjab  7.3  NaN>\n"
     ]
    }
   ],
   "source": [
    "print (\"this is the attribute style to access or retrieve the data \")\n",
    "print ()\n",
    "print (frame_df.Year)\n",
    "print ()\n",
    "print (frame_df.pop)"
   ]
  },
  {
   "cell_type": "markdown",
   "metadata": {},
   "source": [
    "# retrive the data using the loc method through index number "
   ]
  },
  {
   "cell_type": "code",
   "execution_count": 13,
   "metadata": {},
   "outputs": [
    {
     "name": "stdout",
     "output_type": "stream",
     "text": [
      "Year      2003\n",
      "state    sindh\n",
      "pop        2.3\n",
      "debt       NaN\n",
      "Name: One, dtype: object\n",
      "Year      2004\n",
      "state    sindh\n",
      "pop        4.5\n",
      "debt       NaN\n",
      "Name: Two, dtype: object\n"
     ]
    }
   ],
   "source": [
    "print (frame_df.loc[\"One\"])\n",
    "print (frame_df.loc[\"Two\"])"
   ]
  },
  {
   "cell_type": "markdown",
   "metadata": {},
   "source": [
    "# retrieve the length of data frame "
   ]
  },
  {
   "cell_type": "code",
   "execution_count": 14,
   "metadata": {},
   "outputs": [
    {
     "name": "stdout",
     "output_type": "stream",
     "text": [
      "       Year   state  pop debt\n",
      "One    2003   sindh  2.3  NaN\n",
      "Two    2004   sindh  4.5  NaN\n",
      "Three  2005   sindh  3.6  NaN\n",
      "Four   2006  punjab  5.2  NaN\n",
      "Five   2007  punjab  8.9  NaN\n",
      "Six    2008  punjab  7.3  NaN\n",
      "\n",
      "6\n",
      "       Year   state  pop  debt\n",
      "One    2003   sindh  2.3     0\n",
      "Two    2004   sindh  4.5     1\n",
      "Three  2005   sindh  3.6     2\n",
      "Four   2006  punjab  5.2     3\n",
      "Five   2007  punjab  8.9     4\n",
      "Six    2008  punjab  7.3     5\n"
     ]
    }
   ],
   "source": [
    "import numpy as np\n",
    "\n",
    "state = [\"sindh\", \"sindh\", \"sindh\", \"punjab\", \"punjab\", \"punjab\"]\n",
    "\n",
    "data = {\"state\": state,\n",
    "       \"Year\": [2003,2004,2005,2006,2007,2008],\n",
    "        \"pop\": [2.3,4.5,3.6,5.2,8.9,7.3]\n",
    "       }\n",
    "frame_df = pd.DataFrame(data, columns=[\"Year\", \"state\", \"pop\",\"debt\"], \n",
    "                        index= [\"One\", \"Two\", \"Three\", \"Four\", \"Five\", \"Six\"])\n",
    "print (frame_df)\n",
    "print()\n",
    "len_row = len(frame_df)# finding number of rows \n",
    "print (len_row)\n",
    "range_index = np.arange(len_row) # save the length of data frame \n",
    "\n",
    "frame_df[\"debt\"] = range_index   # assign the length of data frame to debt column \n",
    "print (frame_df)\n"
   ]
  },
  {
   "cell_type": "markdown",
   "metadata": {},
   "source": [
    "# the index of series and data frame must be matched or be same "
   ]
  },
  {
   "cell_type": "code",
   "execution_count": 15,
   "metadata": {},
   "outputs": [
    {
     "name": "stdout",
     "output_type": "stream",
     "text": [
      "       Year   state  pop  debt\n",
      "One    2003   sindh  2.3    -1\n",
      "Two    2004   sindh  4.5    -2\n",
      "Three  2005   sindh  3.6    -3\n",
      "Four   2006  punjab  5.2    -4\n",
      "Five   2007  punjab  8.9    -5\n",
      "Six    2008  punjab  7.3    -6\n"
     ]
    }
   ],
   "source": [
    "val = pd.Series([-1,-2,-3,-4,-5,-6], \n",
    "                index=[\"One\", \"Two\", \"Three\", \"Four\", \"Five\", \"Six\"]) \n",
    "                    # her we can see that we keep the index same as data frame \n",
    "\n",
    "frame_df[\"debt\"] = val\n",
    "print (frame_df)"
   ]
  },
  {
   "cell_type": "code",
   "execution_count": null,
   "metadata": {},
   "outputs": [],
   "source": []
  }
 ],
 "metadata": {
  "kernelspec": {
   "display_name": "Python 3",
   "language": "python",
   "name": "python3"
  },
  "language_info": {
   "codemirror_mode": {
    "name": "ipython",
    "version": 3
   },
   "file_extension": ".py",
   "mimetype": "text/x-python",
   "name": "python",
   "nbconvert_exporter": "python",
   "pygments_lexer": "ipython3",
   "version": "3.8.5"
  }
 },
 "nbformat": 4,
 "nbformat_minor": 2
}
