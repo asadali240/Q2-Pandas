{
 "cells": [
  {
   "cell_type": "code",
   "execution_count": 2,
   "metadata": {},
   "outputs": [],
   "source": [
    "import pandas as pd "
   ]
  },
  {
   "cell_type": "code",
   "execution_count": 3,
   "metadata": {},
   "outputs": [
    {
     "name": "stdout",
     "output_type": "stream",
     "text": [
      "Monday       150\n",
      "Tuesday      100\n",
      "Wednesday     30\n",
      "Thursday      20\n",
      "Friday        25\n",
      "saturday     300\n",
      "Sunday       200\n",
      "Name: Weekly sale data of the canteen , dtype: int64\n"
     ]
    }
   ],
   "source": [
    "canteen = pd.Series([150,100,30,20,25,300,200], index=[\"Monday\", \"Tuesday\", \"Wednesday\", \"Thursday\", \"Friday\", \"saturday\", \"Sunday\"], name=\"Weekly sale data of the canteen \")\n",
    "\n",
    "print (canteen)"
   ]
  },
  {
   "cell_type": "code",
   "execution_count": null,
   "metadata": {},
   "outputs": [],
   "source": []
  }
 ],
 "metadata": {
  "kernelspec": {
   "display_name": "Python 3",
   "language": "python",
   "name": "python3"
  },
  "language_info": {
   "codemirror_mode": {
    "name": "ipython",
    "version": 3
   },
   "file_extension": ".py",
   "mimetype": "text/x-python",
   "name": "python",
   "nbconvert_exporter": "python",
   "pygments_lexer": "ipython3",
   "version": "3.7.4"
  }
 },
 "nbformat": 4,
 "nbformat_minor": 2
}
