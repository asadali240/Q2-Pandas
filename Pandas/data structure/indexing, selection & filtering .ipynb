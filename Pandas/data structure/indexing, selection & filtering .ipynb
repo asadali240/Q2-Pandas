{
 "cells": [
  {
   "cell_type": "code",
   "execution_count": 9,
   "metadata": {},
   "outputs": [
    {
     "name": "stdout",
     "output_type": "stream",
     "text": [
      "           One  two  three  four\n",
      "Uhaio        0    1      2     3\n",
      "Colorando    4    5      6     7\n",
      "Utah         8    9     10    11\n",
      "Newyork     12   13     14    15 \n",
      "\n",
      "\n",
      "           One  three\n",
      "Uhaio        0      2\n",
      "Colorando    4      6\n",
      "Utah         8     10\n",
      "Newyork     12     14\n",
      "\n",
      "         One  two  three  four\n",
      "Utah       8    9     10    11\n",
      "Newyork   12   13     14    15\n"
     ]
    }
   ],
   "source": [
    "import numpy as np \n",
    "import pandas as pd\n",
    "\n",
    "data_df = pd.DataFrame(np.arange(16).reshape((4,4)),\n",
    "                      index=[\"Uhaio\", \"Colorando\",\"Utah\", \"Newyork\"],\n",
    "                      columns=[\"One\",\"two\",\"three\", \"four\"])\n",
    "\n",
    "print (data_df, \"\\n\")\n",
    "print ()\n",
    "\n",
    "df2 = data_df[[\"One\", \"three\"]]\n",
    "print (df2)\n",
    "print ()\n",
    "print (data_df[2:]) # slicing like numpy \n",
    "# print()\n",
    "# print (data_df.Uhaio[:2])"
   ]
  },
  {
   "cell_type": "code",
   "execution_count": null,
   "metadata": {},
   "outputs": [],
   "source": []
  }
 ],
 "metadata": {
  "kernelspec": {
   "display_name": "Python 3",
   "language": "python",
   "name": "python3"
  },
  "language_info": {
   "codemirror_mode": {
    "name": "ipython",
    "version": 3
   },
   "file_extension": ".py",
   "mimetype": "text/x-python",
   "name": "python",
   "nbconvert_exporter": "python",
   "pygments_lexer": "ipython3",
   "version": "3.7.4"
  }
 },
 "nbformat": 4,
 "nbformat_minor": 4
}
