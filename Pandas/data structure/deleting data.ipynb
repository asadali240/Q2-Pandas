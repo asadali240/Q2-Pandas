{
 "cells": [
  {
   "cell_type": "markdown",
   "metadata": {},
   "source": [
    "# there are two methods of deleting data \n",
    "* using drop method \n",
    "* using in place method "
   ]
  },
  {
   "cell_type": "markdown",
   "metadata": {},
   "source": [
    "# deleting the row using axis = 0"
   ]
  },
  {
   "cell_type": "code",
   "execution_count": 12,
   "metadata": {},
   "outputs": [
    {
     "name": "stdout",
     "output_type": "stream",
     "text": [
      "           One  two  three  four\n",
      "Uhaio        0    1      2     3\n",
      "Colorando    4    5      6     7\n",
      "Utah         8    9     10    11\n",
      "Newyork     12   13     14    15 \n",
      "\n",
      "\n",
      "           One  two  three  four\n",
      "Colorando    4    5      6     7\n",
      "Utah         8    9     10    11\n",
      "Newyork     12   13     14    15\n"
     ]
    }
   ],
   "source": [
    "import numpy as np \n",
    "import pandas as pd\n",
    "\n",
    "data_df = pd.DataFrame(np.arange(16).reshape((4,4)),\n",
    "                      index=[\"Uhaio\", \"Colorando\",\"Utah\", \"Newyork\"],\n",
    "                      columns=[\"One\",\"two\",\"three\", \"four\"])\n",
    "\n",
    "print (data_df, \"\\n\")\n",
    "print ()\n",
    "\n",
    "data_df = data_df.drop(\"Uhaio\", axis=0)\n",
    "print (data_df)"
   ]
  },
  {
   "cell_type": "markdown",
   "metadata": {},
   "source": [
    "# deleting the column using axis = 1"
   ]
  },
  {
   "cell_type": "code",
   "execution_count": 13,
   "metadata": {},
   "outputs": [
    {
     "name": "stdout",
     "output_type": "stream",
     "text": [
      "           One  two  three  four\n",
      "Uhaio        0    1      2     3\n",
      "Colorando    4    5      6     7\n",
      "Utah         8    9     10    11\n",
      "Newyork     12   13     14    15 \n",
      "\n",
      "\n",
      "           two  three  four\n",
      "Uhaio        1      2     3\n",
      "Colorando    5      6     7\n",
      "Utah         9     10    11\n",
      "Newyork     13     14    15\n"
     ]
    }
   ],
   "source": [
    "import numpy as np \n",
    "import pandas as pd\n",
    "\n",
    "data_df = pd.DataFrame(np.arange(16).reshape((4,4)),\n",
    "                      index=[\"Uhaio\", \"Colorando\",\"Utah\", \"Newyork\"],\n",
    "                      columns=[\"One\",\"two\",\"three\", \"four\"])\n",
    "\n",
    "print (data_df, \"\\n\")\n",
    "print ()\n",
    "\n",
    "data_df = data_df.drop(\"One\", axis=1)\n",
    "print (data_df)"
   ]
  },
  {
   "cell_type": "code",
   "execution_count": 15,
   "metadata": {},
   "outputs": [
    {
     "name": "stdout",
     "output_type": "stream",
     "text": [
      "           One  two  three  four\n",
      "Uhaio        0    1      2     3\n",
      "Colorando    4    5      6     7\n",
      "Utah         8    9     10    11\n",
      "Newyork     12   13     14    15 \n",
      "\n",
      "\n",
      "None\n"
     ]
    }
   ],
   "source": [
    "import numpy as np \n",
    "import pandas as pd\n",
    "\n",
    "data_df = pd.DataFrame(np.arange(16).reshape((4,4)),\n",
    "                      index=[\"Uhaio\", \"Colorando\",\"Utah\", \"Newyork\"],\n",
    "                      columns=[\"One\",\"two\",\"three\", \"four\"])\n",
    "\n",
    "print (data_df, \"\\n\")\n",
    "print ()\n",
    "\n",
    "\n",
    "print (data_df.drop(\"One\", axis = 1, inplace = True))"
   ]
  },
  {
   "cell_type": "code",
   "execution_count": null,
   "metadata": {},
   "outputs": [],
   "source": []
  }
 ],
 "metadata": {
  "kernelspec": {
   "display_name": "Python 3",
   "language": "python",
   "name": "python3"
  },
  "language_info": {
   "codemirror_mode": {
    "name": "ipython",
    "version": 3
   },
   "file_extension": ".py",
   "mimetype": "text/x-python",
   "name": "python",
   "nbconvert_exporter": "python",
   "pygments_lexer": "ipython3",
   "version": "3.8.5"
  }
 },
 "nbformat": 4,
 "nbformat_minor": 2
}
