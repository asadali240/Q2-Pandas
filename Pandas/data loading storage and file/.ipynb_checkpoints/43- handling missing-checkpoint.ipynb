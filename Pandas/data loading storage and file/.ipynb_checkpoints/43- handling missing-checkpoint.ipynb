{
 "cells": [
  {
   "cell_type": "markdown",
   "metadata": {},
   "source": [
    "# handling missing values"
   ]
  },
  {
   "cell_type": "code",
   "execution_count": 1,
   "metadata": {},
   "outputs": [],
   "source": [
    "import pandas as pd \n",
    "\n"
   ]
  },
  {
   "cell_type": "code",
   "execution_count": 7,
   "metadata": {},
   "outputs": [
    {
     "name": "stdout",
     "output_type": "stream",
     "text": [
      "  studentid          name  chemistry  physics  english  math\n",
      "0       A01     arif ali        20.0     30.0       40  50.0\n",
      "1       A02  kamran khan        30.0      NaN       50   NaN\n",
      "2       A03    imran ali         NaN     50.0       60  70.0\n",
      "3       A04  kashif khan        50.0     60.0       70   NaN\n"
     ]
    }
   ],
   "source": [
    "sample_missing = pd.read_csv(\"sample1_missing.csv\")\n",
    "print (sample_missing)"
   ]
  },
  {
   "cell_type": "markdown",
   "metadata": {},
   "source": [
    "# checking the null value in the data frame "
   ]
  },
  {
   "cell_type": "code",
   "execution_count": 10,
   "metadata": {},
   "outputs": [
    {
     "data": {
      "text/html": [
       "<div>\n",
       "<style scoped>\n",
       "    .dataframe tbody tr th:only-of-type {\n",
       "        vertical-align: middle;\n",
       "    }\n",
       "\n",
       "    .dataframe tbody tr th {\n",
       "        vertical-align: top;\n",
       "    }\n",
       "\n",
       "    .dataframe thead th {\n",
       "        text-align: right;\n",
       "    }\n",
       "</style>\n",
       "<table border=\"1\" class=\"dataframe\">\n",
       "  <thead>\n",
       "    <tr style=\"text-align: right;\">\n",
       "      <th></th>\n",
       "      <th>studentid</th>\n",
       "      <th>name</th>\n",
       "      <th>chemistry</th>\n",
       "      <th>physics</th>\n",
       "      <th>english</th>\n",
       "      <th>math</th>\n",
       "    </tr>\n",
       "  </thead>\n",
       "  <tbody>\n",
       "    <tr>\n",
       "      <td>0</td>\n",
       "      <td>False</td>\n",
       "      <td>False</td>\n",
       "      <td>False</td>\n",
       "      <td>False</td>\n",
       "      <td>False</td>\n",
       "      <td>False</td>\n",
       "    </tr>\n",
       "    <tr>\n",
       "      <td>1</td>\n",
       "      <td>False</td>\n",
       "      <td>False</td>\n",
       "      <td>False</td>\n",
       "      <td>True</td>\n",
       "      <td>False</td>\n",
       "      <td>True</td>\n",
       "    </tr>\n",
       "    <tr>\n",
       "      <td>2</td>\n",
       "      <td>False</td>\n",
       "      <td>False</td>\n",
       "      <td>True</td>\n",
       "      <td>False</td>\n",
       "      <td>False</td>\n",
       "      <td>False</td>\n",
       "    </tr>\n",
       "    <tr>\n",
       "      <td>3</td>\n",
       "      <td>False</td>\n",
       "      <td>False</td>\n",
       "      <td>False</td>\n",
       "      <td>False</td>\n",
       "      <td>False</td>\n",
       "      <td>True</td>\n",
       "    </tr>\n",
       "  </tbody>\n",
       "</table>\n",
       "</div>"
      ],
      "text/plain": [
       "   studentid   name  chemistry  physics  english   math\n",
       "0      False  False      False    False    False  False\n",
       "1      False  False      False     True    False   True\n",
       "2      False  False       True    False    False  False\n",
       "3      False  False      False    False    False   True"
      ]
     },
     "execution_count": 10,
     "metadata": {},
     "output_type": "execute_result"
    }
   ],
   "source": [
    "pd.isnull(sample_missing)"
   ]
  },
  {
   "cell_type": "code",
   "execution_count": 22,
   "metadata": {},
   "outputs": [
    {
     "name": "stdout",
     "output_type": "stream",
     "text": [
      "  studentid          name  chemistry  physics  english  math\n",
      "0       A01     arif ali        20.0     30.0       40  50.0\n",
      "1       A02  kamran khan        30.0      NaN       50   NaN\n",
      "2       A03    imran ali         NaN     50.0       60  70.0\n",
      "3       A04  kashif khan        50.0     60.0       70   NaN\n"
     ]
    }
   ],
   "source": [
    "sample_missing1 = pd.read_csv(\"sample1_missing.csv\", na_values=[\"NaN\"])\n",
    "print (sample_missing1)"
   ]
  },
  {
   "cell_type": "code",
   "execution_count": 29,
   "metadata": {},
   "outputs": [
    {
     "name": "stdout",
     "output_type": "stream",
     "text": [
      "  studentid          name  chemistry  physics  english  math\n",
      "0       A01     arif ali        20.0     30.0       40  50.0\n",
      "1       A02  kamran khan        30.0      NaN       50   NaN\n",
      "2       A03    imran ali         NaN     50.0       60  70.0\n",
      "3       A04  kashif khan        50.0     60.0       70   NaN\n"
     ]
    }
   ],
   "source": [
    "sentinels = {'math': ['', 'NA']}\n",
    "\n",
    "sample_missing1 = pd.read_csv(\"sample1_missing.csv\", na_values=sentinels)\n",
    "print (sample_missing1)"
   ]
  },
  {
   "cell_type": "markdown",
   "metadata": {},
   "source": [
    "# dropna() method\n",
    "- parameters \n",
    "         -dropna() method by default drop all rows which have atleast 1 NaN value, the default \n",
    "         value of dropna(how = \"any\", axis = 0)\n",
    "        \n",
    "        -how = \"any\" / all, axis = 0/1, any with axis =0 drop all the rows which have atleast \n",
    "        one NaN and all will drop the column with axis = 1 which have all rows /columns \n",
    "        have NaN \n",
    "        \n",
    "        -subset = [give the mutiple columns names] it will drop the entire given column \n",
    "        \n",
    "        -thres = 2, if in the row have atleast 2 NaN values then this row cant be droped \n",
    "        \n",
    "        -inplace = True, this parameter will change in original data frame permentatly.\n",
    "        "
   ]
  },
  {
   "cell_type": "code",
   "execution_count": null,
   "metadata": {},
   "outputs": [],
   "source": []
  }
 ],
 "metadata": {
  "kernelspec": {
   "display_name": "Python 3",
   "language": "python",
   "name": "python3"
  },
  "language_info": {
   "codemirror_mode": {
    "name": "ipython",
    "version": 3
   },
   "file_extension": ".py",
   "mimetype": "text/x-python",
   "name": "python",
   "nbconvert_exporter": "python",
   "pygments_lexer": "ipython3",
   "version": "3.7.4"
  }
 },
 "nbformat": 4,
 "nbformat_minor": 2
}
