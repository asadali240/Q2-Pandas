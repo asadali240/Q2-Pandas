{
 "cells": [
  {
   "cell_type": "code",
   "execution_count": 1,
   "metadata": {},
   "outputs": [
    {
     "name": "stdout",
     "output_type": "stream",
     "text": [
      "  studentid          name   chemistry   physics   english   math\n",
      "0        A01     arif ali           20        30        40    50\n",
      "1        A02  kamran khan           30        40        50    60\n",
      "2        A03    imran ali           40        50        60    70\n",
      "3        A04  kashif khan           50        60        70    80\n",
      "\n",
      "\n"
     ]
    }
   ],
   "source": [
    "import pandas as pd \n",
    "\n",
    "\n",
    "sample_df = pd.read_csv(\"sample1.csv\")\n",
    "\n",
    "print (sample_df)\n",
    "print (\"\\n\")\n",
    "\n"
   ]
  },
  {
   "cell_type": "markdown",
   "metadata": {},
   "source": [
    "# here we are using the skiprows method for skip the first row in the data frame \n",
    "- as we can see below when we are not using the skiprows method then the dataframe \n",
    "- shown the both columns headings 1 is already exists in the csv file \n",
    "- and other that we have given "
   ]
  },
  {
   "cell_type": "code",
   "execution_count": 10,
   "metadata": {},
   "outputs": [
    {
     "name": "stdout",
     "output_type": "stream",
     "text": [
      "           ID          Name          Ch       Phy       Eng  Math\n",
      "0  studentid          name   chemistry   physics   english   math\n",
      "1         A01     arif ali           20        30        40    50\n",
      "2         A02  kamran khan           30        40        50    60\n",
      "3         A03    imran ali           40        50        60    70\n",
      "4         A04  kashif khan           50        60        70    80\n"
     ]
    }
   ],
   "source": [
    "\n",
    "sample_df = pd.read_csv(\"sample1.csv\", sep=\",\",\n",
    "                       names =[\"ID\", \"Name\",\"Ch\", \"Phy\", \"Eng\", \"Math\"], \n",
    "                        \n",
    "                       )\n",
    "print (sample_df)"
   ]
  },
  {
   "cell_type": "code",
   "execution_count": 3,
   "metadata": {},
   "outputs": [
    {
     "name": "stdout",
     "output_type": "stream",
     "text": [
      "None\n",
      "             Name  Ch  Phy  Eng  Math\n",
      "ID                                   \n",
      "A01     arif ali   20   30   40    50\n",
      "A02  kamran khan   30   40   50    60\n",
      "A03    imran ali   40   50   60    70\n",
      "A04  kashif khan   50   60   70    80\n"
     ]
    }
   ],
   "source": [
    "\n",
    "\n",
    "sample_df = pd.read_csv(\"sample1.csv\", \n",
    "                       names =[\"ID\", \"Name\",\"Ch\", \"Phy\", \"Eng\", \"Math\"], \n",
    "                        skiprows=1\n",
    "                        \n",
    "                        )\n",
    "print (sample_df.set_index(\"ID\", inplace = True))\n",
    "print (sample_df)\n"
   ]
  },
  {
   "cell_type": "code",
   "execution_count": 4,
   "metadata": {},
   "outputs": [
    {
     "name": "stdout",
     "output_type": "stream",
     "text": [
      "    ID          Name  Ch  Phy  Eng  Math\n",
      "0  A01     arif ali   20   30   40    50\n",
      "1  A02  kamran khan   30   40   50    60\n",
      "2  A03    imran ali   40   50   60    70\n",
      "3  A04  kashif khan   50   60   70    80\n"
     ]
    }
   ],
   "source": [
    "print (sample_df.reset_index())"
   ]
  },
  {
   "cell_type": "code",
   "execution_count": 5,
   "metadata": {},
   "outputs": [
    {
     "name": "stdout",
     "output_type": "stream",
     "text": [
      "   ID  Name\n",
      "0   1     5\n",
      "1   2     6\n",
      "2   3     7\n",
      "3   4     8\n"
     ]
    }
   ],
   "source": [
    "sample_df1 = pd.read_csv(\"without_heading.csv\",sep=\",\", \n",
    "                        names=[\"ID\", \"Name\"]\n",
    "                        )\n",
    "print (sample_df1)\n"
   ]
  },
  {
   "cell_type": "markdown",
   "metadata": {},
   "source": [
    "# Hierachical indexing "
   ]
  },
  {
   "cell_type": "code",
   "execution_count": 6,
   "metadata": {},
   "outputs": [
    {
     "name": "stdout",
     "output_type": "stream",
     "text": [
      "   key1 key2  value1  value2\n",
      "0  one     a       1       2\n",
      "1  one     b       3       4\n",
      "2  one     c       5       6\n",
      "3  one     d       7       8\n",
      "4  two     a       9      10\n",
      "5  two     b      11      12\n",
      "6  two     c      13      14\n",
      "7  two     d      15      16\n",
      "\n"
     ]
    }
   ],
   "source": [
    "parsed = pd.read_csv(\"sample2.csv\")\n",
    "print (parsed)\n",
    "print ()\n",
    "\n"
   ]
  },
  {
   "cell_type": "code",
   "execution_count": 17,
   "metadata": {},
   "outputs": [
    {
     "name": "stdout",
     "output_type": "stream",
     "text": [
      "   key1 key2  value1  value2\n",
      "0  one     a       1       2\n",
      "1  one     b       3       4\n",
      "2  one     c       5       6\n",
      "3  one     d       7       8\n",
      "4  two     a       9      10\n",
      "5  two     b      11      12\n",
      "6  two     c      13      14\n",
      "7  two     d      15      16\n"
     ]
    }
   ],
   "source": [
    "parsed1 = pd.read_csv(\"sample2.csv\")\n",
    "print (parsed1)\n"
   ]
  },
  {
   "cell_type": "markdown",
   "metadata": {},
   "source": [
    "using skip row method "
   ]
  },
  {
   "cell_type": "code",
   "execution_count": 36,
   "metadata": {},
   "outputs": [
    {
     "name": "stdout",
     "output_type": "stream",
     "text": [
      "   one   a   1   2\n",
      "0  one   b   3   4\n",
      "1  one   c   5   6\n",
      "2  one   d   7   8\n",
      "3  two   a   9  10\n",
      "4  two   b  11  12\n",
      "5  two   c  13  14\n",
      "6  two   d  15  16\n",
      "\n",
      "   key1 key2  value1  value2\n",
      "0  one     a       1       2\n",
      "1  one     c       5       6\n",
      "2  one     d       7       8\n",
      "3  two     b      11      12\n",
      "4  two     c      13      14\n",
      "5  two     d      15      16\n"
     ]
    }
   ],
   "source": [
    "parsed1 = pd.read_csv(\"sample2.csv\", skiprows=1)\n",
    "print (parsed1)\n",
    "\n",
    "print ()\n",
    "# skip the rows also using fancy indexing \n",
    "\n",
    "parsed1 = pd.read_csv(\"sample2.csv\", skiprows=[2,5]) \n",
    "print (parsed1)\n"
   ]
  },
  {
   "cell_type": "code",
   "execution_count": 39,
   "metadata": {},
   "outputs": [
    {
     "name": "stdout",
     "output_type": "stream",
     "text": [
      "           value1  value2\n",
      "key1 key2                \n",
      "one  a          1       2\n",
      "     b          3       4\n",
      "     c          5       6\n",
      "     d          7       8\n",
      "two  a          9      10\n",
      "     b         11      12\n",
      "     c         13      14\n",
      "     d         15      16\n",
      "\n",
      "           value1  value2\n",
      "key1 key2                \n",
      "one  a      False   False\n",
      "     b      False   False\n",
      "     c      False   False\n",
      "     d      False   False\n",
      "two  a      False   False\n",
      "     b      False   False\n",
      "     c      False   False\n",
      "     d      False   False\n"
     ]
    }
   ],
   "source": [
    "parsed1 = pd.read_csv(\"sample2.csv\", index_col=[\"key1\", \"key2\"])\n",
    "print (parsed1)\n",
    "print ()\n",
    "print (pd.isnull(parsed1))  # checking value if there is null "
   ]
  },
  {
   "cell_type": "markdown",
   "metadata": {},
   "source": [
    "# reading the txt file "
   ]
  },
  {
   "cell_type": "code",
   "execution_count": 19,
   "metadata": {},
   "outputs": [],
   "source": [
    "text = list (open(\"ex1.txt\"))"
   ]
  },
  {
   "cell_type": "code",
   "execution_count": 38,
   "metadata": {},
   "outputs": [
    {
     "name": "stdout",
     "output_type": "stream",
     "text": [
      "            A         B         C\n",
      "aaa -0.264438 -1.026059 -0.619500\n",
      "bbb -0.927272  0.302904  0.032399\n",
      "\n",
      "         A      B      C\n",
      "aaa  False  False  False\n",
      "bbb  False  False  False\n"
     ]
    }
   ],
   "source": [
    "\n",
    "result = pd.read_table(\"ex1.txt\", sep=\"\\s+\", engine=\"python\")\n",
    "\n",
    "print (result)\n",
    "print ()\n",
    "print (pd.isnull(result))   # checking value if there is null"
   ]
  },
  {
   "cell_type": "markdown",
   "metadata": {},
   "source": [
    "# we can also read txt file though csv method "
   ]
  },
  {
   "cell_type": "code",
   "execution_count": 48,
   "metadata": {},
   "outputs": [
    {
     "name": "stdout",
     "output_type": "stream",
     "text": [
      "            A         B         C\n",
      "aaa -0.264438 -1.026059 -0.619500\n",
      "bbb -0.927272  0.302904  0.032399\n",
      "         A      B      C\n",
      "aaa  False  False  False\n",
      "bbb  False  False  False\n"
     ]
    }
   ],
   "source": [
    "result = pd.read_csv(\"ex1.txt\", sep=\"\\s+\", engine=\"python\")\n",
    "\n",
    "print (result)\n",
    "print (pd.isnull(result))    # checking value if there is null"
   ]
  },
  {
   "cell_type": "code",
   "execution_count": 47,
   "metadata": {},
   "outputs": [
    {
     "name": "stdout",
     "output_type": "stream",
     "text": [
      "            A         B         C\n",
      "aaa -0.264438 -1.026059 -0.619500\n",
      "bbb -0.927272  0.302904  0.032399\n",
      "\n",
      "         A      B      C\n",
      "aaa  False  False  False\n",
      "bbb  False  False  False\n"
     ]
    }
   ],
   "source": [
    "result1 = pd.read_csv(\"ex1.txt\", sep=\"\\t+\", engine=\"python\")\n",
    "\n",
    "print (result1)\n",
    "print ()\n",
    "print (pd.isnull(result1)) # checking value if there is null\n",
    "\n"
   ]
  },
  {
   "cell_type": "code",
   "execution_count": 86,
   "metadata": {},
   "outputs": [
    {
     "name": "stdout",
     "output_type": "stream",
     "text": [
      "  studentid          name  chemistry  physics  english  math\n",
      "0       A01     arif ali          20       30       40    50\n",
      "1       A02  kamran khan          30       40       50    60\n",
      "2       A03    imran ali          40       50       60    70\n",
      "3       A04  kashif khan          50       60       70    80\n"
     ]
    }
   ],
   "source": [
    "sample3_df = pd.read_csv(\"sample3.csv\",sep=\",\")\n",
    "\n",
    "print (sample3_df)\n"
   ]
  },
  {
   "cell_type": "markdown",
   "metadata": {},
   "source": [
    "# here we have use the seperate list for give the columns names "
   ]
  },
  {
   "cell_type": "code",
   "execution_count": 106,
   "metadata": {},
   "outputs": [
    {
     "data": {
      "text/html": [
       "<div>\n",
       "<style scoped>\n",
       "    .dataframe tbody tr th:only-of-type {\n",
       "        vertical-align: middle;\n",
       "    }\n",
       "\n",
       "    .dataframe tbody tr th {\n",
       "        vertical-align: top;\n",
       "    }\n",
       "\n",
       "    .dataframe thead th {\n",
       "        text-align: right;\n",
       "    }\n",
       "</style>\n",
       "<table border=\"1\" class=\"dataframe\">\n",
       "  <thead>\n",
       "    <tr style=\"text-align: right;\">\n",
       "      <th></th>\n",
       "      <th>StudentID</th>\n",
       "      <th>Name</th>\n",
       "      <th>Chemistry</th>\n",
       "      <th>Physics</th>\n",
       "      <th>English</th>\n",
       "      <th>Math</th>\n",
       "    </tr>\n",
       "  </thead>\n",
       "  <tbody>\n",
       "    <tr>\n",
       "      <td>0</td>\n",
       "      <td>A01</td>\n",
       "      <td>arif ali</td>\n",
       "      <td>20</td>\n",
       "      <td>30</td>\n",
       "      <td>40</td>\n",
       "      <td>50</td>\n",
       "    </tr>\n",
       "    <tr>\n",
       "      <td>1</td>\n",
       "      <td>A02</td>\n",
       "      <td>kamran khan</td>\n",
       "      <td>30</td>\n",
       "      <td>40</td>\n",
       "      <td>50</td>\n",
       "      <td>60</td>\n",
       "    </tr>\n",
       "    <tr>\n",
       "      <td>2</td>\n",
       "      <td>A03</td>\n",
       "      <td>imran ali</td>\n",
       "      <td>40</td>\n",
       "      <td>50</td>\n",
       "      <td>60</td>\n",
       "      <td>70</td>\n",
       "    </tr>\n",
       "    <tr>\n",
       "      <td>3</td>\n",
       "      <td>A04</td>\n",
       "      <td>kashif khan</td>\n",
       "      <td>50</td>\n",
       "      <td>60</td>\n",
       "      <td>70</td>\n",
       "      <td>80</td>\n",
       "    </tr>\n",
       "  </tbody>\n",
       "</table>\n",
       "</div>"
      ],
      "text/plain": [
       "  StudentID          Name  Chemistry  Physics  English  Math\n",
       "0       A01     arif ali          20       30       40    50\n",
       "1       A02  kamran khan          30       40       50    60\n",
       "2       A03    imran ali          40       50       60    70\n",
       "3       A04  kashif khan          50       60       70    80"
      ]
     },
     "metadata": {},
     "output_type": "display_data"
    }
   ],
   "source": [
    "names=[\"StudentID\", \"Name\", \"Chemistry\", \"Physics\", \"English\", \"Math\"]\n",
    "\n",
    "sample4_df = pd.read_csv(\"sample4.csv\", sep=\",\", names=names, skiprows=1)\n",
    "display (sample4_df)"
   ]
  },
  {
   "cell_type": "markdown",
   "metadata": {},
   "source": [
    "# here we are hiding the index column using method"
   ]
  },
  {
   "cell_type": "code",
   "execution_count": 109,
   "metadata": {},
   "outputs": [
    {
     "data": {
      "text/html": [
       "<style  type=\"text/css\" >\n",
       "</style><table id=\"T_3c268914_8a1a_11eb_a42a_54bef70eb72e\" ><thead>    <tr>        <th class=\"col_heading level0 col0\" >StudentID</th>        <th class=\"col_heading level0 col1\" >Name</th>        <th class=\"col_heading level0 col2\" >Chemistry</th>        <th class=\"col_heading level0 col3\" >Physics</th>        <th class=\"col_heading level0 col4\" >English</th>        <th class=\"col_heading level0 col5\" >Math</th>    </tr></thead><tbody>\n",
       "                <tr>\n",
       "                                <td id=\"T_3c268914_8a1a_11eb_a42a_54bef70eb72erow0_col0\" class=\"data row0 col0\" >A01</td>\n",
       "                        <td id=\"T_3c268914_8a1a_11eb_a42a_54bef70eb72erow0_col1\" class=\"data row0 col1\" >arif ali </td>\n",
       "                        <td id=\"T_3c268914_8a1a_11eb_a42a_54bef70eb72erow0_col2\" class=\"data row0 col2\" >20</td>\n",
       "                        <td id=\"T_3c268914_8a1a_11eb_a42a_54bef70eb72erow0_col3\" class=\"data row0 col3\" >30</td>\n",
       "                        <td id=\"T_3c268914_8a1a_11eb_a42a_54bef70eb72erow0_col4\" class=\"data row0 col4\" >40</td>\n",
       "                        <td id=\"T_3c268914_8a1a_11eb_a42a_54bef70eb72erow0_col5\" class=\"data row0 col5\" >50</td>\n",
       "            </tr>\n",
       "            <tr>\n",
       "                                <td id=\"T_3c268914_8a1a_11eb_a42a_54bef70eb72erow1_col0\" class=\"data row1 col0\" >A02</td>\n",
       "                        <td id=\"T_3c268914_8a1a_11eb_a42a_54bef70eb72erow1_col1\" class=\"data row1 col1\" >kamran khan </td>\n",
       "                        <td id=\"T_3c268914_8a1a_11eb_a42a_54bef70eb72erow1_col2\" class=\"data row1 col2\" >30</td>\n",
       "                        <td id=\"T_3c268914_8a1a_11eb_a42a_54bef70eb72erow1_col3\" class=\"data row1 col3\" >40</td>\n",
       "                        <td id=\"T_3c268914_8a1a_11eb_a42a_54bef70eb72erow1_col4\" class=\"data row1 col4\" >50</td>\n",
       "                        <td id=\"T_3c268914_8a1a_11eb_a42a_54bef70eb72erow1_col5\" class=\"data row1 col5\" >60</td>\n",
       "            </tr>\n",
       "            <tr>\n",
       "                                <td id=\"T_3c268914_8a1a_11eb_a42a_54bef70eb72erow2_col0\" class=\"data row2 col0\" >A03</td>\n",
       "                        <td id=\"T_3c268914_8a1a_11eb_a42a_54bef70eb72erow2_col1\" class=\"data row2 col1\" >imran ali </td>\n",
       "                        <td id=\"T_3c268914_8a1a_11eb_a42a_54bef70eb72erow2_col2\" class=\"data row2 col2\" >40</td>\n",
       "                        <td id=\"T_3c268914_8a1a_11eb_a42a_54bef70eb72erow2_col3\" class=\"data row2 col3\" >50</td>\n",
       "                        <td id=\"T_3c268914_8a1a_11eb_a42a_54bef70eb72erow2_col4\" class=\"data row2 col4\" >60</td>\n",
       "                        <td id=\"T_3c268914_8a1a_11eb_a42a_54bef70eb72erow2_col5\" class=\"data row2 col5\" >70</td>\n",
       "            </tr>\n",
       "            <tr>\n",
       "                                <td id=\"T_3c268914_8a1a_11eb_a42a_54bef70eb72erow3_col0\" class=\"data row3 col0\" >A04</td>\n",
       "                        <td id=\"T_3c268914_8a1a_11eb_a42a_54bef70eb72erow3_col1\" class=\"data row3 col1\" >kashif khan </td>\n",
       "                        <td id=\"T_3c268914_8a1a_11eb_a42a_54bef70eb72erow3_col2\" class=\"data row3 col2\" >50</td>\n",
       "                        <td id=\"T_3c268914_8a1a_11eb_a42a_54bef70eb72erow3_col3\" class=\"data row3 col3\" >60</td>\n",
       "                        <td id=\"T_3c268914_8a1a_11eb_a42a_54bef70eb72erow3_col4\" class=\"data row3 col4\" >70</td>\n",
       "                        <td id=\"T_3c268914_8a1a_11eb_a42a_54bef70eb72erow3_col5\" class=\"data row3 col5\" >80</td>\n",
       "            </tr>\n",
       "    </tbody></table>"
      ],
      "text/plain": [
       "<pandas.io.formats.style.Styler at 0xc683cb0>"
      ]
     },
     "metadata": {},
     "output_type": "display_data"
    }
   ],
   "source": [
    "\n",
    "\n",
    "sample4_df = pd.read_csv(\"sample4.csv\", sep=\",\", \n",
    "                         names=[\"StudentID\", \"Name\", \"Chemistry\", \"Physics\", \"English\", \"Math\"]\n",
    "                         , skiprows=1)\n",
    "\n",
    "display (sample4_df.style.hide_index()) # here we are the hiding column \n"
   ]
  },
  {
   "cell_type": "code",
   "execution_count": null,
   "metadata": {},
   "outputs": [],
   "source": []
  }
 ],
 "metadata": {
  "kernelspec": {
   "display_name": "Python 3",
   "language": "python",
   "name": "python3"
  },
  "language_info": {
   "codemirror_mode": {
    "name": "ipython",
    "version": 3
   },
   "file_extension": ".py",
   "mimetype": "text/x-python",
   "name": "python",
   "nbconvert_exporter": "python",
   "pygments_lexer": "ipython3",
   "version": "3.7.4"
  }
 },
 "nbformat": 4,
 "nbformat_minor": 2
}
