{
 "cells": [
  {
   "cell_type": "code",
   "execution_count": 54,
   "metadata": {},
   "outputs": [
    {
     "name": "stdout",
     "output_type": "stream",
     "text": [
      "  studentid          name   chemistry   physics   english   math\n",
      "0        A01     arif ali           20        30        40    50\n",
      "1        A02  kamran khan           30        40        50    60\n",
      "2        A03    imran ali           40        50        60    70\n",
      "3        A04  kashif khan           50        60        70    80\n",
      "\n",
      "\n"
     ]
    }
   ],
   "source": [
    "import pandas as pd \n",
    "\n",
    "\n",
    "sample_df = pd.read_csv(\"sample1.csv\")\n",
    "\n",
    "print (sample_df)\n",
    "print (\"\\n\")\n",
    "\n"
   ]
  },
  {
   "cell_type": "markdown",
   "metadata": {},
   "source": [
    "# here we are using the skiprows method for skip the first row in the data frame \n",
    "- as we can see below when we are not using the skiprows method then the dataframe \n",
    "- shown the both columns headings 1 is already exists in the csv file \n",
    "- and other that we have given "
   ]
  },
  {
   "cell_type": "code",
   "execution_count": 60,
   "metadata": {},
   "outputs": [
    {
     "name": "stdout",
     "output_type": "stream",
     "text": [
      "           ID          Name          Ch       Phy       Eng  Math\n",
      "0  studentid          name   chemistry   physics   english   math\n",
      "1         A01     arif ali           20        30        40    50\n",
      "2         A02  kamran khan           30        40        50    60\n",
      "3         A03    imran ali           40        50        60    70\n",
      "4         A04  kashif khan           50        60        70    80\n"
     ]
    }
   ],
   "source": [
    "\n",
    "sample_df = pd.read_csv(\"sample1.csv\", sep=\",\",\n",
    "                       names =[\"ID\", \"Name\",\"Ch\", \"Phy\", \"Eng\", \"Math\"], \n",
    "                       )\n",
    "print (sample_df)"
   ]
  },
  {
   "cell_type": "code",
   "execution_count": 56,
   "metadata": {},
   "outputs": [
    {
     "name": "stdout",
     "output_type": "stream",
     "text": [
      "None\n",
      "             Name  Ch  Phy  Eng  Math\n",
      "ID                                   \n",
      "A01     arif ali   20   30   40    50\n",
      "A02  kamran khan   30   40   50    60\n",
      "A03    imran ali   40   50   60    70\n",
      "A04  kashif khan   50   60   70    80\n"
     ]
    }
   ],
   "source": [
    "\n",
    "\n",
    "sample_df = pd.read_csv(\"sample1.csv\", \n",
    "                       names =[\"ID\", \"Name\",\"Ch\", \"Phy\", \"Eng\", \"Math\"], \n",
    "                        skiprows=1\n",
    "                        \n",
    "                        )\n",
    "print (sample_df.set_index(\"ID\", inplace = True))\n",
    "print (sample_df)\n"
   ]
  },
  {
   "cell_type": "code",
   "execution_count": 57,
   "metadata": {},
   "outputs": [
    {
     "name": "stdout",
     "output_type": "stream",
     "text": [
      "    ID          Name  Ch  Phy  Eng  Math\n",
      "0  A01     arif ali   20   30   40    50\n",
      "1  A02  kamran khan   30   40   50    60\n",
      "2  A03    imran ali   40   50   60    70\n",
      "3  A04  kashif khan   50   60   70    80\n"
     ]
    }
   ],
   "source": [
    "print (sample_df.reset_index())"
   ]
  },
  {
   "cell_type": "code",
   "execution_count": 59,
   "metadata": {},
   "outputs": [
    {
     "name": "stdout",
     "output_type": "stream",
     "text": [
      "   ID  Name\n",
      "0   1     5\n",
      "1   2     6\n",
      "2   3     7\n",
      "3   4     8\n"
     ]
    }
   ],
   "source": [
    "sample_df1 = pd.read_csv(\"without_heading.csv\",sep=\",\", \n",
    "                        names=[\"ID\", \"Name\"]\n",
    "                        )\n",
    "print (sample_df1)\n"
   ]
  },
  {
   "cell_type": "markdown",
   "metadata": {},
   "source": [
    "# Hierachical indexing "
   ]
  },
  {
   "cell_type": "code",
   "execution_count": 67,
   "metadata": {},
   "outputs": [
    {
     "name": "stdout",
     "output_type": "stream",
     "text": [
      "   key1 key2  value1  value2\n",
      "0  one     a       1       2\n",
      "1  one     b       3       4\n",
      "2  one     c       5       6\n",
      "3  one     d       7       8\n",
      "4  two     a       9      10\n",
      "5  two     b      11      12\n",
      "6  two     c      13      14\n",
      "7  two     d      15      16\n",
      "\n"
     ]
    }
   ],
   "source": [
    "parsed = pd.read_csv(\"sample2.csv\")\n",
    "print (parsed)\n",
    "print ()\n",
    "\n"
   ]
  },
  {
   "cell_type": "code",
   "execution_count": 66,
   "metadata": {},
   "outputs": [
    {
     "name": "stdout",
     "output_type": "stream",
     "text": [
      "           value1  value2\n",
      "key1 key2                \n",
      "one  a          1       2\n",
      "     b          3       4\n",
      "     c          5       6\n",
      "     d          7       8\n",
      "two  a          9      10\n",
      "     b         11      12\n",
      "     c         13      14\n",
      "     d         15      16\n"
     ]
    }
   ],
   "source": [
    "parsed1 = pd.read_csv(\"sample2.csv\", index_col=[\"key1\", \"key2\"])\n",
    "print (parsed1)\n"
   ]
  },
  {
   "cell_type": "code",
   "execution_count": null,
   "metadata": {},
   "outputs": [],
   "source": []
  }
 ],
 "metadata": {
  "kernelspec": {
   "display_name": "Python 3",
   "language": "python",
   "name": "python3"
  },
  "language_info": {
   "codemirror_mode": {
    "name": "ipython",
    "version": 3
   },
   "file_extension": ".py",
   "mimetype": "text/x-python",
   "name": "python",
   "nbconvert_exporter": "python",
   "pygments_lexer": "ipython3",
   "version": "3.7.4"
  }
 },
 "nbformat": 4,
 "nbformat_minor": 2
}
