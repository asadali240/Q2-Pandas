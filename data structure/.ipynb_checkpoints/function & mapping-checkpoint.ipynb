{
 "cells": [
  {
   "cell_type": "code",
   "execution_count": 9,
   "metadata": {},
   "outputs": [
    {
     "name": "stdout",
     "output_type": "stream",
     "text": [
      "               b         d         e\n",
      "utha    0.174731  1.006094 -0.919800\n",
      "ohio   -0.526076  0.091969 -0.662962\n",
      "Texas   0.812475 -0.725066 -0.899335\n",
      "oregon -0.244004  0.547892  1.193925\n",
      "\n",
      "-0.7250663951084922\n",
      "1.0060935215847515\n",
      "1.7311599166932439\n",
      "\n",
      "b    1.338551\n",
      "d    1.731160\n",
      "e    2.113724\n",
      "dtype: float64\n"
     ]
    }
   ],
   "source": [
    "import numpy as np \n",
    "import pandas as pd \n",
    "\n",
    "frame = frame = pd.DataFrame(np.random.randn(4,3),\n",
    "                            columns=list(\"bde\"),\n",
    "                            index=[\"utha\", \"ohio\", \"Texas\", \"oregon\"])\n",
    "\n",
    "print (frame)\n",
    "print ()\n",
    "print (frame[\"d\"].min())\n",
    "print (frame [\"d\"].max())\n",
    "print(frame[\"d\"].max() - frame[\"d\"].min())\n",
    "print ()\n",
    "f = lambda x: x.max() - x.min()\n",
    "#print (np.abs(frame))\n",
    "df = frame.apply(f)\n",
    "print (df)"
   ]
  },
  {
   "cell_type": "code",
   "execution_count": null,
   "metadata": {},
   "outputs": [],
   "source": []
  }
 ],
 "metadata": {
  "kernelspec": {
   "display_name": "Python 3",
   "language": "python",
   "name": "python3"
  },
  "language_info": {
   "codemirror_mode": {
    "name": "ipython",
    "version": 3
   },
   "file_extension": ".py",
   "mimetype": "text/x-python",
   "name": "python",
   "nbconvert_exporter": "python",
   "pygments_lexer": "ipython3",
   "version": "3.7.4"
  }
 },
 "nbformat": 4,
 "nbformat_minor": 2
}
